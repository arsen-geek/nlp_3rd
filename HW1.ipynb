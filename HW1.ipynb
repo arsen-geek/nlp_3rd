{
 "cells": [
  {
   "cell_type": "markdown",
   "id": "medieval-contrast",
   "metadata": {},
   "source": [
    "# HW1"
   ]
  },
  {
   "cell_type": "code",
   "execution_count": 1,
   "id": "utility-wednesday",
   "metadata": {},
   "outputs": [],
   "source": [
    "import requests\n",
    "from bs4 import BeautifulSoup"
   ]
  },
  {
   "cell_type": "code",
   "execution_count": 2,
   "id": "tough-click",
   "metadata": {},
   "outputs": [],
   "source": [
    "pos_comments = []\n",
    "neg_comments = []\n",
    "\n",
    "# скачивание отзывов с 22-х страниц\n",
    "for i in range(1, 22):\n",
    "    req = 'https://otziv-otziv.ru/katalog/naushniki-i-bluetooth-garnitury/xiaomi/besprovodnye-naushniki-xiaomi-airdots-pro-mi-true-wireless-earphones.html?page=' + str(i)\n",
    "    response = requests.get(req)\n",
    "    if (response.status_code == 200):\n",
    "        soup = BeautifulSoup(response.text, 'html.parser')  # варка супа\n",
    "\n",
    "        # поиск всех блоков с отзывами\n",
    "        post = soup.findAll('div', {'class': 'container-reviews'})\n",
    "\n",
    "        for p in post:\n",
    "            # последний символ тайтла — оценка от 1 до 5\n",
    "            rating = int(p.find('div', {'class': 'stars-container'}).get('title')[-1])\n",
    "    \n",
    "            text = p.get_text()\n",
    "    \n",
    "            # отзывы с оценкой 3 не включены\n",
    "            if rating > 3:\n",
    "                pos_comments.append({'rating': rating, 'text': text})\n",
    "            elif rating < 3:\n",
    "                neg_comments.append({'rating': rating, 'text': text})\n",
    "    else:\n",
    "        print('На странице ', i, ' ошибка.')"
   ]
  },
  {
   "cell_type": "code",
   "execution_count": 3,
   "id": "universal-persian",
   "metadata": {},
   "outputs": [
    {
     "name": "stdout",
     "output_type": "stream",
     "text": [
      "177\n",
      "355\n"
     ]
    }
   ],
   "source": [
    "print(len(neg_comments))\n",
    "print(len(pos_comments))"
   ]
  },
  {
   "cell_type": "code",
   "execution_count": 4,
   "id": "threatened-delicious",
   "metadata": {},
   "outputs": [],
   "source": [
    "# 40 последних отзывов, на которых будет проверяться алгоритм\n",
    "test_sample = []\n",
    "\n",
    "test_size = 40\n",
    "t = int(-((test_size / 2) + 1))\n",
    "\n",
    "test_sample.extend(neg_comments[t:-1])\n",
    "test_sample.extend(pos_comments[t:-1])\n",
    "\n",
    "# удаление этих отзывов из обучающей выборки\n",
    "del neg_comments[t:-1]\n",
    "del pos_comments[t:-1]"
   ]
  },
  {
   "cell_type": "code",
   "execution_count": 8,
   "id": "technological-assurance",
   "metadata": {},
   "outputs": [],
   "source": [
    "import nltk\n",
    "\n",
    "# токенизатор отзывов. Вход — список отзывов, выход — список слов из всех отзывов\n",
    "\n",
    "def tokenize_comments(lst):\n",
    "    all_words = []\n",
    "    for comment in lst:\n",
    "        tokens = nltk.word_tokenize(comment['text'])\n",
    "        words = [word.lower() for word in tokens if word.isalpha()]\n",
    "        all_words.extend(lemmatize(words))\n",
    "    \n",
    "    return all_words"
   ]
  },
  {
   "cell_type": "code",
   "execution_count": 6,
   "id": "gorgeous-share",
   "metadata": {},
   "outputs": [],
   "source": [
    "import pymorphy2\n",
    "morph = pymorphy2.MorphAnalyzer()\n",
    "\n",
    "# лемматизатор. Вход — лист токенов, выход — список лемм\n",
    "def lemmatize(lst):\n",
    "    res = []\n",
    "    for word in lst:\n",
    "        p = morph.parse(word)[0]\n",
    "        res.append(p.normal_form)\n",
    "    return res"
   ]
  },
  {
   "cell_type": "code",
   "execution_count": 9,
   "id": "genetic-senator",
   "metadata": {},
   "outputs": [],
   "source": [
    "tokenized_neg = tokenize_comments(neg_comments)\n",
    "tokenized_pos = tokenize_comments(pos_comments)"
   ]
  },
  {
   "cell_type": "code",
   "execution_count": 10,
   "id": "everyday-broadcast",
   "metadata": {},
   "outputs": [],
   "source": [
    "# создание списков слов, которые есть только в нег. или только в поз.\n",
    "def only(lst1, lst2):\n",
    "    lst_only = []\n",
    "    for word in lst1:\n",
    "        if word not in lst2:\n",
    "            lst_only.append(word)\n",
    "            \n",
    "    return lst_only\n",
    "        \n",
    "only_neg = only(tokenized_neg, tokenized_pos)\n",
    "only_pos = only(tokenized_pos, tokenized_neg)\n",
    "\n",
    "# словарь из списков\n",
    "only_lists = {'pos': only_pos, 'neg': only_neg}"
   ]
  },
  {
   "cell_type": "code",
   "execution_count": 11,
   "id": "nominated-alarm",
   "metadata": {},
   "outputs": [],
   "source": [
    "def simple_detect(only_lists, text):\n",
    "    \n",
    "    COUNT = {'pos': 0, 'neg': 0}\n",
    "    \n",
    "    tokens = nltk.word_tokenize(text)\n",
    "    words = [word.lower() for word in tokens if word.isalpha()]\n",
    "    lemmas = lemmatize(words)\n",
    "    \n",
    "    lemmas = lemmatize(tokens)\n",
    "    \n",
    "    for item in only_lists:\n",
    "        for word in lemmas:\n",
    "            if word in only_lists[item]:\n",
    "                COUNT[item] += 1\n",
    "                \n",
    "    max_val = max(COUNT.values())\n",
    "    for k, v in COUNT.items():\n",
    "        if v == max_val:\n",
    "            return k"
   ]
  },
  {
   "cell_type": "markdown",
   "id": "central-aquarium",
   "metadata": {},
   "source": [
    "При испытании на 10-ти отзывах accuracy был 100%, что кажется, скорее, случайностью, чем показателем качества. Поэтому тестовая выборка была увеличина до 40 отзывов (~10% от общего числа отзывов)."
   ]
  },
  {
   "cell_type": "code",
   "execution_count": 13,
   "id": "quick-emperor",
   "metadata": {
    "scrolled": true
   },
   "outputs": [
    {
     "name": "stdout",
     "output_type": "stream",
     "text": [
      "Успешно. Оценка:  neg\n",
      "Успешно. Оценка:  neg\n",
      "Успешно. Оценка:  neg\n",
      "Успешно. Оценка:  neg\n",
      "Ошибка! Предположение:  pos  Истинная оценка:  neg\n",
      "Успешно. Оценка:  neg\n",
      "Успешно. Оценка:  neg\n",
      "Успешно. Оценка:  neg\n",
      "Успешно. Оценка:  neg\n",
      "Успешно. Оценка:  neg\n",
      "Успешно. Оценка:  neg\n",
      "Успешно. Оценка:  neg\n",
      "Успешно. Оценка:  neg\n",
      "Ошибка! Предположение:  pos  Истинная оценка:  neg\n",
      "Успешно. Оценка:  neg\n",
      "Успешно. Оценка:  neg\n",
      "Успешно. Оценка:  neg\n",
      "Успешно. Оценка:  neg\n",
      "Успешно. Оценка:  neg\n",
      "Успешно. Оценка:  neg\n",
      "Успешно. Оценка:  pos\n",
      "Успешно. Оценка:  pos\n",
      "Успешно. Оценка:  pos\n",
      "Успешно. Оценка:  pos\n",
      "Успешно. Оценка:  pos\n",
      "Успешно. Оценка:  pos\n",
      "Успешно. Оценка:  pos\n",
      "Успешно. Оценка:  pos\n",
      "Успешно. Оценка:  pos\n",
      "Успешно. Оценка:  pos\n",
      "Успешно. Оценка:  pos\n",
      "Успешно. Оценка:  pos\n",
      "Успешно. Оценка:  pos\n",
      "Успешно. Оценка:  pos\n",
      "Успешно. Оценка:  pos\n",
      "Успешно. Оценка:  pos\n",
      "Успешно. Оценка:  pos\n",
      "Успешно. Оценка:  pos\n",
      "Успешно. Оценка:  pos\n",
      "Успешно. Оценка:  pos\n",
      "\n",
      "Accuracy:  0.95\n"
     ]
    }
   ],
   "source": [
    "accuracy = 0\n",
    "mistakes = 0\n",
    "all_comments = 0\n",
    "\n",
    "for comment in test_sample:\n",
    "    real_value = ''\n",
    "    all_comments += 1\n",
    "    \n",
    "    if comment['rating'] > 3:\n",
    "        real_value = 'pos'\n",
    "    else:\n",
    "        real_value = 'neg'\n",
    "    \n",
    "    predict = simple_detect(only_lists, comment['text'])\n",
    "    \n",
    "    if predict == real_value:\n",
    "        print('Успешно. Оценка: ', real_value)\n",
    "        \n",
    "    else:\n",
    "        mistakes += 1\n",
    "        print('Ошибка! Предположение: ', predict, ' Истинная оценка: ', real_value)\n",
    "\n",
    "accuracy = (all_comments - mistakes)/ all_comments\n",
    "print('\\nAccuracy: ', accuracy)"
   ]
  },
  {
   "cell_type": "markdown",
   "id": "rubber-ecuador",
   "metadata": {},
   "source": [
    "### Предложение по исправлению:"
   ]
  },
  {
   "cell_type": "markdown",
   "id": "dangerous-premises",
   "metadata": {},
   "source": [
    "1) Как в негативных, так и в позитивных отзывах пишут про достоинства и недостатки. Поскольку негативные отзывы по ошибке определяются как позитивные, в список слов негативных можно не включать текст который идет между словами достоинства (плюсы и т д) — недостатки (минусы и т д) (почти всегда сначала написано о плюсах).\n",
    "2) Оценивать длину текста после слова \"достоинства\" и после слова \"недостатки\". В негативных вторая часть будет, предположительно, длинее."
   ]
  }
 ],
 "metadata": {
  "kernelspec": {
   "display_name": "Python 3",
   "language": "python",
   "name": "python3"
  },
  "language_info": {
   "codemirror_mode": {
    "name": "ipython",
    "version": 3
   },
   "file_extension": ".py",
   "mimetype": "text/x-python",
   "name": "python",
   "nbconvert_exporter": "python",
   "pygments_lexer": "ipython3",
   "version": "3.7.9"
  }
 },
 "nbformat": 4,
 "nbformat_minor": 5
}
