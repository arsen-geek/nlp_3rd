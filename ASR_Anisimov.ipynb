{
  "nbformat": 4,
  "nbformat_minor": 0,
  "metadata": {
    "colab": {
      "provenance": []
    },
    "kernelspec": {
      "name": "python3",
      "display_name": "Python 3"
    },
    "language_info": {
      "name": "python"
    },
    "widgets": {
      "application/vnd.jupyter.widget-state+json": {
        "5850475f03a74888a0e3403c624967b4": {
          "model_module": "@jupyter-widgets/controls",
          "model_name": "HBoxModel",
          "model_module_version": "1.5.0",
          "state": {
            "_dom_classes": [],
            "_model_module": "@jupyter-widgets/controls",
            "_model_module_version": "1.5.0",
            "_model_name": "HBoxModel",
            "_view_count": null,
            "_view_module": "@jupyter-widgets/controls",
            "_view_module_version": "1.5.0",
            "_view_name": "HBoxView",
            "box_style": "",
            "children": [
              "IPY_MODEL_f3a8de0275b2468da9fe956f5790b19a",
              "IPY_MODEL_cecc36f636c2472881a6468bdd8cc76c",
              "IPY_MODEL_c8eaa942654846438256f7a08a16e659"
            ],
            "layout": "IPY_MODEL_fbda0f46b5d44a65b60f3c1063a81113"
          }
        },
        "f3a8de0275b2468da9fe956f5790b19a": {
          "model_module": "@jupyter-widgets/controls",
          "model_name": "HTMLModel",
          "model_module_version": "1.5.0",
          "state": {
            "_dom_classes": [],
            "_model_module": "@jupyter-widgets/controls",
            "_model_module_version": "1.5.0",
            "_model_name": "HTMLModel",
            "_view_count": null,
            "_view_module": "@jupyter-widgets/controls",
            "_view_module_version": "1.5.0",
            "_view_name": "HTMLView",
            "description": "",
            "description_tooltip": null,
            "layout": "IPY_MODEL_6d970c53beb9459c8fa8967b6e1d76a2",
            "placeholder": "​",
            "style": "IPY_MODEL_e19cdff3beb741d6a448b3af9b42a9c2",
            "value": "config.json: 100%"
          }
        },
        "cecc36f636c2472881a6468bdd8cc76c": {
          "model_module": "@jupyter-widgets/controls",
          "model_name": "FloatProgressModel",
          "model_module_version": "1.5.0",
          "state": {
            "_dom_classes": [],
            "_model_module": "@jupyter-widgets/controls",
            "_model_module_version": "1.5.0",
            "_model_name": "FloatProgressModel",
            "_view_count": null,
            "_view_module": "@jupyter-widgets/controls",
            "_view_module_version": "1.5.0",
            "_view_name": "ProgressView",
            "bar_style": "success",
            "description": "",
            "description_tooltip": null,
            "layout": "IPY_MODEL_630df78313be44eb93ce69a8acb498fa",
            "max": 1531,
            "min": 0,
            "orientation": "horizontal",
            "style": "IPY_MODEL_ec662bf2fcc04177b19187b327f0c21d",
            "value": 1531
          }
        },
        "c8eaa942654846438256f7a08a16e659": {
          "model_module": "@jupyter-widgets/controls",
          "model_name": "HTMLModel",
          "model_module_version": "1.5.0",
          "state": {
            "_dom_classes": [],
            "_model_module": "@jupyter-widgets/controls",
            "_model_module_version": "1.5.0",
            "_model_name": "HTMLModel",
            "_view_count": null,
            "_view_module": "@jupyter-widgets/controls",
            "_view_module_version": "1.5.0",
            "_view_name": "HTMLView",
            "description": "",
            "description_tooltip": null,
            "layout": "IPY_MODEL_639de412a3594268af5bc6927afeb1f2",
            "placeholder": "​",
            "style": "IPY_MODEL_598398dea31942fc862199326cc0653b",
            "value": " 1.53k/1.53k [00:00&lt;00:00, 61.3kB/s]"
          }
        },
        "fbda0f46b5d44a65b60f3c1063a81113": {
          "model_module": "@jupyter-widgets/base",
          "model_name": "LayoutModel",
          "model_module_version": "1.2.0",
          "state": {
            "_model_module": "@jupyter-widgets/base",
            "_model_module_version": "1.2.0",
            "_model_name": "LayoutModel",
            "_view_count": null,
            "_view_module": "@jupyter-widgets/base",
            "_view_module_version": "1.2.0",
            "_view_name": "LayoutView",
            "align_content": null,
            "align_items": null,
            "align_self": null,
            "border": null,
            "bottom": null,
            "display": null,
            "flex": null,
            "flex_flow": null,
            "grid_area": null,
            "grid_auto_columns": null,
            "grid_auto_flow": null,
            "grid_auto_rows": null,
            "grid_column": null,
            "grid_gap": null,
            "grid_row": null,
            "grid_template_areas": null,
            "grid_template_columns": null,
            "grid_template_rows": null,
            "height": null,
            "justify_content": null,
            "justify_items": null,
            "left": null,
            "margin": null,
            "max_height": null,
            "max_width": null,
            "min_height": null,
            "min_width": null,
            "object_fit": null,
            "object_position": null,
            "order": null,
            "overflow": null,
            "overflow_x": null,
            "overflow_y": null,
            "padding": null,
            "right": null,
            "top": null,
            "visibility": null,
            "width": null
          }
        },
        "6d970c53beb9459c8fa8967b6e1d76a2": {
          "model_module": "@jupyter-widgets/base",
          "model_name": "LayoutModel",
          "model_module_version": "1.2.0",
          "state": {
            "_model_module": "@jupyter-widgets/base",
            "_model_module_version": "1.2.0",
            "_model_name": "LayoutModel",
            "_view_count": null,
            "_view_module": "@jupyter-widgets/base",
            "_view_module_version": "1.2.0",
            "_view_name": "LayoutView",
            "align_content": null,
            "align_items": null,
            "align_self": null,
            "border": null,
            "bottom": null,
            "display": null,
            "flex": null,
            "flex_flow": null,
            "grid_area": null,
            "grid_auto_columns": null,
            "grid_auto_flow": null,
            "grid_auto_rows": null,
            "grid_column": null,
            "grid_gap": null,
            "grid_row": null,
            "grid_template_areas": null,
            "grid_template_columns": null,
            "grid_template_rows": null,
            "height": null,
            "justify_content": null,
            "justify_items": null,
            "left": null,
            "margin": null,
            "max_height": null,
            "max_width": null,
            "min_height": null,
            "min_width": null,
            "object_fit": null,
            "object_position": null,
            "order": null,
            "overflow": null,
            "overflow_x": null,
            "overflow_y": null,
            "padding": null,
            "right": null,
            "top": null,
            "visibility": null,
            "width": null
          }
        },
        "e19cdff3beb741d6a448b3af9b42a9c2": {
          "model_module": "@jupyter-widgets/controls",
          "model_name": "DescriptionStyleModel",
          "model_module_version": "1.5.0",
          "state": {
            "_model_module": "@jupyter-widgets/controls",
            "_model_module_version": "1.5.0",
            "_model_name": "DescriptionStyleModel",
            "_view_count": null,
            "_view_module": "@jupyter-widgets/base",
            "_view_module_version": "1.2.0",
            "_view_name": "StyleView",
            "description_width": ""
          }
        },
        "630df78313be44eb93ce69a8acb498fa": {
          "model_module": "@jupyter-widgets/base",
          "model_name": "LayoutModel",
          "model_module_version": "1.2.0",
          "state": {
            "_model_module": "@jupyter-widgets/base",
            "_model_module_version": "1.2.0",
            "_model_name": "LayoutModel",
            "_view_count": null,
            "_view_module": "@jupyter-widgets/base",
            "_view_module_version": "1.2.0",
            "_view_name": "LayoutView",
            "align_content": null,
            "align_items": null,
            "align_self": null,
            "border": null,
            "bottom": null,
            "display": null,
            "flex": null,
            "flex_flow": null,
            "grid_area": null,
            "grid_auto_columns": null,
            "grid_auto_flow": null,
            "grid_auto_rows": null,
            "grid_column": null,
            "grid_gap": null,
            "grid_row": null,
            "grid_template_areas": null,
            "grid_template_columns": null,
            "grid_template_rows": null,
            "height": null,
            "justify_content": null,
            "justify_items": null,
            "left": null,
            "margin": null,
            "max_height": null,
            "max_width": null,
            "min_height": null,
            "min_width": null,
            "object_fit": null,
            "object_position": null,
            "order": null,
            "overflow": null,
            "overflow_x": null,
            "overflow_y": null,
            "padding": null,
            "right": null,
            "top": null,
            "visibility": null,
            "width": null
          }
        },
        "ec662bf2fcc04177b19187b327f0c21d": {
          "model_module": "@jupyter-widgets/controls",
          "model_name": "ProgressStyleModel",
          "model_module_version": "1.5.0",
          "state": {
            "_model_module": "@jupyter-widgets/controls",
            "_model_module_version": "1.5.0",
            "_model_name": "ProgressStyleModel",
            "_view_count": null,
            "_view_module": "@jupyter-widgets/base",
            "_view_module_version": "1.2.0",
            "_view_name": "StyleView",
            "bar_color": null,
            "description_width": ""
          }
        },
        "639de412a3594268af5bc6927afeb1f2": {
          "model_module": "@jupyter-widgets/base",
          "model_name": "LayoutModel",
          "model_module_version": "1.2.0",
          "state": {
            "_model_module": "@jupyter-widgets/base",
            "_model_module_version": "1.2.0",
            "_model_name": "LayoutModel",
            "_view_count": null,
            "_view_module": "@jupyter-widgets/base",
            "_view_module_version": "1.2.0",
            "_view_name": "LayoutView",
            "align_content": null,
            "align_items": null,
            "align_self": null,
            "border": null,
            "bottom": null,
            "display": null,
            "flex": null,
            "flex_flow": null,
            "grid_area": null,
            "grid_auto_columns": null,
            "grid_auto_flow": null,
            "grid_auto_rows": null,
            "grid_column": null,
            "grid_gap": null,
            "grid_row": null,
            "grid_template_areas": null,
            "grid_template_columns": null,
            "grid_template_rows": null,
            "height": null,
            "justify_content": null,
            "justify_items": null,
            "left": null,
            "margin": null,
            "max_height": null,
            "max_width": null,
            "min_height": null,
            "min_width": null,
            "object_fit": null,
            "object_position": null,
            "order": null,
            "overflow": null,
            "overflow_x": null,
            "overflow_y": null,
            "padding": null,
            "right": null,
            "top": null,
            "visibility": null,
            "width": null
          }
        },
        "598398dea31942fc862199326cc0653b": {
          "model_module": "@jupyter-widgets/controls",
          "model_name": "DescriptionStyleModel",
          "model_module_version": "1.5.0",
          "state": {
            "_model_module": "@jupyter-widgets/controls",
            "_model_module_version": "1.5.0",
            "_model_name": "DescriptionStyleModel",
            "_view_count": null,
            "_view_module": "@jupyter-widgets/base",
            "_view_module_version": "1.2.0",
            "_view_name": "StyleView",
            "description_width": ""
          }
        },
        "d84fa4c697c74e2886abe99f7ab9b425": {
          "model_module": "@jupyter-widgets/controls",
          "model_name": "HBoxModel",
          "model_module_version": "1.5.0",
          "state": {
            "_dom_classes": [],
            "_model_module": "@jupyter-widgets/controls",
            "_model_module_version": "1.5.0",
            "_model_name": "HBoxModel",
            "_view_count": null,
            "_view_module": "@jupyter-widgets/controls",
            "_view_module_version": "1.5.0",
            "_view_name": "HBoxView",
            "box_style": "",
            "children": [
              "IPY_MODEL_8cdee223fef24d9db851ae6b9bc0d8a9",
              "IPY_MODEL_45df29aceff84d139ef13b62e9d6368d",
              "IPY_MODEL_a78f6ddbf6754ba895ad70a535da8f93"
            ],
            "layout": "IPY_MODEL_24565607b97541818602130986175cfc"
          }
        },
        "8cdee223fef24d9db851ae6b9bc0d8a9": {
          "model_module": "@jupyter-widgets/controls",
          "model_name": "HTMLModel",
          "model_module_version": "1.5.0",
          "state": {
            "_dom_classes": [],
            "_model_module": "@jupyter-widgets/controls",
            "_model_module_version": "1.5.0",
            "_model_name": "HTMLModel",
            "_view_count": null,
            "_view_module": "@jupyter-widgets/controls",
            "_view_module_version": "1.5.0",
            "_view_name": "HTMLView",
            "description": "",
            "description_tooltip": null,
            "layout": "IPY_MODEL_9971ae81344940198cb70700225e14b9",
            "placeholder": "​",
            "style": "IPY_MODEL_a0fdda36a12248fbac4cea6295b456f4",
            "value": "pytorch_model.bin: 100%"
          }
        },
        "45df29aceff84d139ef13b62e9d6368d": {
          "model_module": "@jupyter-widgets/controls",
          "model_name": "FloatProgressModel",
          "model_module_version": "1.5.0",
          "state": {
            "_dom_classes": [],
            "_model_module": "@jupyter-widgets/controls",
            "_model_module_version": "1.5.0",
            "_model_name": "FloatProgressModel",
            "_view_count": null,
            "_view_module": "@jupyter-widgets/controls",
            "_view_module_version": "1.5.0",
            "_view_name": "ProgressView",
            "bar_style": "success",
            "description": "",
            "description_tooltip": null,
            "layout": "IPY_MODEL_756650dfc58743989a63a80dd735514b",
            "max": 1262101911,
            "min": 0,
            "orientation": "horizontal",
            "style": "IPY_MODEL_56684b8923974133bff6eafafe41843f",
            "value": 1262101911
          }
        },
        "a78f6ddbf6754ba895ad70a535da8f93": {
          "model_module": "@jupyter-widgets/controls",
          "model_name": "HTMLModel",
          "model_module_version": "1.5.0",
          "state": {
            "_dom_classes": [],
            "_model_module": "@jupyter-widgets/controls",
            "_model_module_version": "1.5.0",
            "_model_name": "HTMLModel",
            "_view_count": null,
            "_view_module": "@jupyter-widgets/controls",
            "_view_module_version": "1.5.0",
            "_view_name": "HTMLView",
            "description": "",
            "description_tooltip": null,
            "layout": "IPY_MODEL_7f0a70c9e2f843b7a9636bd8cd87eebb",
            "placeholder": "​",
            "style": "IPY_MODEL_9c1f82c9be024d1b95665da262a053ba",
            "value": " 1.26G/1.26G [00:20&lt;00:00, 46.0MB/s]"
          }
        },
        "24565607b97541818602130986175cfc": {
          "model_module": "@jupyter-widgets/base",
          "model_name": "LayoutModel",
          "model_module_version": "1.2.0",
          "state": {
            "_model_module": "@jupyter-widgets/base",
            "_model_module_version": "1.2.0",
            "_model_name": "LayoutModel",
            "_view_count": null,
            "_view_module": "@jupyter-widgets/base",
            "_view_module_version": "1.2.0",
            "_view_name": "LayoutView",
            "align_content": null,
            "align_items": null,
            "align_self": null,
            "border": null,
            "bottom": null,
            "display": null,
            "flex": null,
            "flex_flow": null,
            "grid_area": null,
            "grid_auto_columns": null,
            "grid_auto_flow": null,
            "grid_auto_rows": null,
            "grid_column": null,
            "grid_gap": null,
            "grid_row": null,
            "grid_template_areas": null,
            "grid_template_columns": null,
            "grid_template_rows": null,
            "height": null,
            "justify_content": null,
            "justify_items": null,
            "left": null,
            "margin": null,
            "max_height": null,
            "max_width": null,
            "min_height": null,
            "min_width": null,
            "object_fit": null,
            "object_position": null,
            "order": null,
            "overflow": null,
            "overflow_x": null,
            "overflow_y": null,
            "padding": null,
            "right": null,
            "top": null,
            "visibility": null,
            "width": null
          }
        },
        "9971ae81344940198cb70700225e14b9": {
          "model_module": "@jupyter-widgets/base",
          "model_name": "LayoutModel",
          "model_module_version": "1.2.0",
          "state": {
            "_model_module": "@jupyter-widgets/base",
            "_model_module_version": "1.2.0",
            "_model_name": "LayoutModel",
            "_view_count": null,
            "_view_module": "@jupyter-widgets/base",
            "_view_module_version": "1.2.0",
            "_view_name": "LayoutView",
            "align_content": null,
            "align_items": null,
            "align_self": null,
            "border": null,
            "bottom": null,
            "display": null,
            "flex": null,
            "flex_flow": null,
            "grid_area": null,
            "grid_auto_columns": null,
            "grid_auto_flow": null,
            "grid_auto_rows": null,
            "grid_column": null,
            "grid_gap": null,
            "grid_row": null,
            "grid_template_areas": null,
            "grid_template_columns": null,
            "grid_template_rows": null,
            "height": null,
            "justify_content": null,
            "justify_items": null,
            "left": null,
            "margin": null,
            "max_height": null,
            "max_width": null,
            "min_height": null,
            "min_width": null,
            "object_fit": null,
            "object_position": null,
            "order": null,
            "overflow": null,
            "overflow_x": null,
            "overflow_y": null,
            "padding": null,
            "right": null,
            "top": null,
            "visibility": null,
            "width": null
          }
        },
        "a0fdda36a12248fbac4cea6295b456f4": {
          "model_module": "@jupyter-widgets/controls",
          "model_name": "DescriptionStyleModel",
          "model_module_version": "1.5.0",
          "state": {
            "_model_module": "@jupyter-widgets/controls",
            "_model_module_version": "1.5.0",
            "_model_name": "DescriptionStyleModel",
            "_view_count": null,
            "_view_module": "@jupyter-widgets/base",
            "_view_module_version": "1.2.0",
            "_view_name": "StyleView",
            "description_width": ""
          }
        },
        "756650dfc58743989a63a80dd735514b": {
          "model_module": "@jupyter-widgets/base",
          "model_name": "LayoutModel",
          "model_module_version": "1.2.0",
          "state": {
            "_model_module": "@jupyter-widgets/base",
            "_model_module_version": "1.2.0",
            "_model_name": "LayoutModel",
            "_view_count": null,
            "_view_module": "@jupyter-widgets/base",
            "_view_module_version": "1.2.0",
            "_view_name": "LayoutView",
            "align_content": null,
            "align_items": null,
            "align_self": null,
            "border": null,
            "bottom": null,
            "display": null,
            "flex": null,
            "flex_flow": null,
            "grid_area": null,
            "grid_auto_columns": null,
            "grid_auto_flow": null,
            "grid_auto_rows": null,
            "grid_column": null,
            "grid_gap": null,
            "grid_row": null,
            "grid_template_areas": null,
            "grid_template_columns": null,
            "grid_template_rows": null,
            "height": null,
            "justify_content": null,
            "justify_items": null,
            "left": null,
            "margin": null,
            "max_height": null,
            "max_width": null,
            "min_height": null,
            "min_width": null,
            "object_fit": null,
            "object_position": null,
            "order": null,
            "overflow": null,
            "overflow_x": null,
            "overflow_y": null,
            "padding": null,
            "right": null,
            "top": null,
            "visibility": null,
            "width": null
          }
        },
        "56684b8923974133bff6eafafe41843f": {
          "model_module": "@jupyter-widgets/controls",
          "model_name": "ProgressStyleModel",
          "model_module_version": "1.5.0",
          "state": {
            "_model_module": "@jupyter-widgets/controls",
            "_model_module_version": "1.5.0",
            "_model_name": "ProgressStyleModel",
            "_view_count": null,
            "_view_module": "@jupyter-widgets/base",
            "_view_module_version": "1.2.0",
            "_view_name": "StyleView",
            "bar_color": null,
            "description_width": ""
          }
        },
        "7f0a70c9e2f843b7a9636bd8cd87eebb": {
          "model_module": "@jupyter-widgets/base",
          "model_name": "LayoutModel",
          "model_module_version": "1.2.0",
          "state": {
            "_model_module": "@jupyter-widgets/base",
            "_model_module_version": "1.2.0",
            "_model_name": "LayoutModel",
            "_view_count": null,
            "_view_module": "@jupyter-widgets/base",
            "_view_module_version": "1.2.0",
            "_view_name": "LayoutView",
            "align_content": null,
            "align_items": null,
            "align_self": null,
            "border": null,
            "bottom": null,
            "display": null,
            "flex": null,
            "flex_flow": null,
            "grid_area": null,
            "grid_auto_columns": null,
            "grid_auto_flow": null,
            "grid_auto_rows": null,
            "grid_column": null,
            "grid_gap": null,
            "grid_row": null,
            "grid_template_areas": null,
            "grid_template_columns": null,
            "grid_template_rows": null,
            "height": null,
            "justify_content": null,
            "justify_items": null,
            "left": null,
            "margin": null,
            "max_height": null,
            "max_width": null,
            "min_height": null,
            "min_width": null,
            "object_fit": null,
            "object_position": null,
            "order": null,
            "overflow": null,
            "overflow_x": null,
            "overflow_y": null,
            "padding": null,
            "right": null,
            "top": null,
            "visibility": null,
            "width": null
          }
        },
        "9c1f82c9be024d1b95665da262a053ba": {
          "model_module": "@jupyter-widgets/controls",
          "model_name": "DescriptionStyleModel",
          "model_module_version": "1.5.0",
          "state": {
            "_model_module": "@jupyter-widgets/controls",
            "_model_module_version": "1.5.0",
            "_model_name": "DescriptionStyleModel",
            "_view_count": null,
            "_view_module": "@jupyter-widgets/base",
            "_view_module_version": "1.2.0",
            "_view_name": "StyleView",
            "description_width": ""
          }
        },
        "f343204e877043d3bc3259b501aff311": {
          "model_module": "@jupyter-widgets/controls",
          "model_name": "HBoxModel",
          "model_module_version": "1.5.0",
          "state": {
            "_dom_classes": [],
            "_model_module": "@jupyter-widgets/controls",
            "_model_module_version": "1.5.0",
            "_model_name": "HBoxModel",
            "_view_count": null,
            "_view_module": "@jupyter-widgets/controls",
            "_view_module_version": "1.5.0",
            "_view_name": "HBoxView",
            "box_style": "",
            "children": [
              "IPY_MODEL_f241f3a345134f71af6cd09f872dd5a4",
              "IPY_MODEL_c280f2b40ec649378dbcc95f36f9bf3b",
              "IPY_MODEL_88690e51ac11429fbef1ae361ce2d076"
            ],
            "layout": "IPY_MODEL_1c8c2cc94d1b421b9284a982b9798610"
          }
        },
        "f241f3a345134f71af6cd09f872dd5a4": {
          "model_module": "@jupyter-widgets/controls",
          "model_name": "HTMLModel",
          "model_module_version": "1.5.0",
          "state": {
            "_dom_classes": [],
            "_model_module": "@jupyter-widgets/controls",
            "_model_module_version": "1.5.0",
            "_model_name": "HTMLModel",
            "_view_count": null,
            "_view_module": "@jupyter-widgets/controls",
            "_view_module_version": "1.5.0",
            "_view_name": "HTMLView",
            "description": "",
            "description_tooltip": null,
            "layout": "IPY_MODEL_ab3964af05f247b8a27555f10c12a3ba",
            "placeholder": "​",
            "style": "IPY_MODEL_af6ab8f6cd2641c981f6ccdf5a7fe510",
            "value": "vocab.json: 100%"
          }
        },
        "c280f2b40ec649378dbcc95f36f9bf3b": {
          "model_module": "@jupyter-widgets/controls",
          "model_name": "FloatProgressModel",
          "model_module_version": "1.5.0",
          "state": {
            "_dom_classes": [],
            "_model_module": "@jupyter-widgets/controls",
            "_model_module_version": "1.5.0",
            "_model_name": "FloatProgressModel",
            "_view_count": null,
            "_view_module": "@jupyter-widgets/controls",
            "_view_module_version": "1.5.0",
            "_view_name": "ProgressView",
            "bar_style": "success",
            "description": "",
            "description_tooltip": null,
            "layout": "IPY_MODEL_243e612264e9425eae310d09b5ee1e83",
            "max": 380,
            "min": 0,
            "orientation": "horizontal",
            "style": "IPY_MODEL_8c4067c8d1ec4ecf9f6e1ea1433509dd",
            "value": 380
          }
        },
        "88690e51ac11429fbef1ae361ce2d076": {
          "model_module": "@jupyter-widgets/controls",
          "model_name": "HTMLModel",
          "model_module_version": "1.5.0",
          "state": {
            "_dom_classes": [],
            "_model_module": "@jupyter-widgets/controls",
            "_model_module_version": "1.5.0",
            "_model_name": "HTMLModel",
            "_view_count": null,
            "_view_module": "@jupyter-widgets/controls",
            "_view_module_version": "1.5.0",
            "_view_name": "HTMLView",
            "description": "",
            "description_tooltip": null,
            "layout": "IPY_MODEL_f27c270da5c746dcb25c53ce49994aae",
            "placeholder": "​",
            "style": "IPY_MODEL_ff43461e1bfc4d55b719817015ec1195",
            "value": " 380/380 [00:00&lt;00:00, 15.4kB/s]"
          }
        },
        "1c8c2cc94d1b421b9284a982b9798610": {
          "model_module": "@jupyter-widgets/base",
          "model_name": "LayoutModel",
          "model_module_version": "1.2.0",
          "state": {
            "_model_module": "@jupyter-widgets/base",
            "_model_module_version": "1.2.0",
            "_model_name": "LayoutModel",
            "_view_count": null,
            "_view_module": "@jupyter-widgets/base",
            "_view_module_version": "1.2.0",
            "_view_name": "LayoutView",
            "align_content": null,
            "align_items": null,
            "align_self": null,
            "border": null,
            "bottom": null,
            "display": null,
            "flex": null,
            "flex_flow": null,
            "grid_area": null,
            "grid_auto_columns": null,
            "grid_auto_flow": null,
            "grid_auto_rows": null,
            "grid_column": null,
            "grid_gap": null,
            "grid_row": null,
            "grid_template_areas": null,
            "grid_template_columns": null,
            "grid_template_rows": null,
            "height": null,
            "justify_content": null,
            "justify_items": null,
            "left": null,
            "margin": null,
            "max_height": null,
            "max_width": null,
            "min_height": null,
            "min_width": null,
            "object_fit": null,
            "object_position": null,
            "order": null,
            "overflow": null,
            "overflow_x": null,
            "overflow_y": null,
            "padding": null,
            "right": null,
            "top": null,
            "visibility": null,
            "width": null
          }
        },
        "ab3964af05f247b8a27555f10c12a3ba": {
          "model_module": "@jupyter-widgets/base",
          "model_name": "LayoutModel",
          "model_module_version": "1.2.0",
          "state": {
            "_model_module": "@jupyter-widgets/base",
            "_model_module_version": "1.2.0",
            "_model_name": "LayoutModel",
            "_view_count": null,
            "_view_module": "@jupyter-widgets/base",
            "_view_module_version": "1.2.0",
            "_view_name": "LayoutView",
            "align_content": null,
            "align_items": null,
            "align_self": null,
            "border": null,
            "bottom": null,
            "display": null,
            "flex": null,
            "flex_flow": null,
            "grid_area": null,
            "grid_auto_columns": null,
            "grid_auto_flow": null,
            "grid_auto_rows": null,
            "grid_column": null,
            "grid_gap": null,
            "grid_row": null,
            "grid_template_areas": null,
            "grid_template_columns": null,
            "grid_template_rows": null,
            "height": null,
            "justify_content": null,
            "justify_items": null,
            "left": null,
            "margin": null,
            "max_height": null,
            "max_width": null,
            "min_height": null,
            "min_width": null,
            "object_fit": null,
            "object_position": null,
            "order": null,
            "overflow": null,
            "overflow_x": null,
            "overflow_y": null,
            "padding": null,
            "right": null,
            "top": null,
            "visibility": null,
            "width": null
          }
        },
        "af6ab8f6cd2641c981f6ccdf5a7fe510": {
          "model_module": "@jupyter-widgets/controls",
          "model_name": "DescriptionStyleModel",
          "model_module_version": "1.5.0",
          "state": {
            "_model_module": "@jupyter-widgets/controls",
            "_model_module_version": "1.5.0",
            "_model_name": "DescriptionStyleModel",
            "_view_count": null,
            "_view_module": "@jupyter-widgets/base",
            "_view_module_version": "1.2.0",
            "_view_name": "StyleView",
            "description_width": ""
          }
        },
        "243e612264e9425eae310d09b5ee1e83": {
          "model_module": "@jupyter-widgets/base",
          "model_name": "LayoutModel",
          "model_module_version": "1.2.0",
          "state": {
            "_model_module": "@jupyter-widgets/base",
            "_model_module_version": "1.2.0",
            "_model_name": "LayoutModel",
            "_view_count": null,
            "_view_module": "@jupyter-widgets/base",
            "_view_module_version": "1.2.0",
            "_view_name": "LayoutView",
            "align_content": null,
            "align_items": null,
            "align_self": null,
            "border": null,
            "bottom": null,
            "display": null,
            "flex": null,
            "flex_flow": null,
            "grid_area": null,
            "grid_auto_columns": null,
            "grid_auto_flow": null,
            "grid_auto_rows": null,
            "grid_column": null,
            "grid_gap": null,
            "grid_row": null,
            "grid_template_areas": null,
            "grid_template_columns": null,
            "grid_template_rows": null,
            "height": null,
            "justify_content": null,
            "justify_items": null,
            "left": null,
            "margin": null,
            "max_height": null,
            "max_width": null,
            "min_height": null,
            "min_width": null,
            "object_fit": null,
            "object_position": null,
            "order": null,
            "overflow": null,
            "overflow_x": null,
            "overflow_y": null,
            "padding": null,
            "right": null,
            "top": null,
            "visibility": null,
            "width": null
          }
        },
        "8c4067c8d1ec4ecf9f6e1ea1433509dd": {
          "model_module": "@jupyter-widgets/controls",
          "model_name": "ProgressStyleModel",
          "model_module_version": "1.5.0",
          "state": {
            "_model_module": "@jupyter-widgets/controls",
            "_model_module_version": "1.5.0",
            "_model_name": "ProgressStyleModel",
            "_view_count": null,
            "_view_module": "@jupyter-widgets/base",
            "_view_module_version": "1.2.0",
            "_view_name": "StyleView",
            "bar_color": null,
            "description_width": ""
          }
        },
        "f27c270da5c746dcb25c53ce49994aae": {
          "model_module": "@jupyter-widgets/base",
          "model_name": "LayoutModel",
          "model_module_version": "1.2.0",
          "state": {
            "_model_module": "@jupyter-widgets/base",
            "_model_module_version": "1.2.0",
            "_model_name": "LayoutModel",
            "_view_count": null,
            "_view_module": "@jupyter-widgets/base",
            "_view_module_version": "1.2.0",
            "_view_name": "LayoutView",
            "align_content": null,
            "align_items": null,
            "align_self": null,
            "border": null,
            "bottom": null,
            "display": null,
            "flex": null,
            "flex_flow": null,
            "grid_area": null,
            "grid_auto_columns": null,
            "grid_auto_flow": null,
            "grid_auto_rows": null,
            "grid_column": null,
            "grid_gap": null,
            "grid_row": null,
            "grid_template_areas": null,
            "grid_template_columns": null,
            "grid_template_rows": null,
            "height": null,
            "justify_content": null,
            "justify_items": null,
            "left": null,
            "margin": null,
            "max_height": null,
            "max_width": null,
            "min_height": null,
            "min_width": null,
            "object_fit": null,
            "object_position": null,
            "order": null,
            "overflow": null,
            "overflow_x": null,
            "overflow_y": null,
            "padding": null,
            "right": null,
            "top": null,
            "visibility": null,
            "width": null
          }
        },
        "ff43461e1bfc4d55b719817015ec1195": {
          "model_module": "@jupyter-widgets/controls",
          "model_name": "DescriptionStyleModel",
          "model_module_version": "1.5.0",
          "state": {
            "_model_module": "@jupyter-widgets/controls",
            "_model_module_version": "1.5.0",
            "_model_name": "DescriptionStyleModel",
            "_view_count": null,
            "_view_module": "@jupyter-widgets/base",
            "_view_module_version": "1.2.0",
            "_view_name": "StyleView",
            "description_width": ""
          }
        },
        "103274745a974bdfa59a0c7cbcefc078": {
          "model_module": "@jupyter-widgets/controls",
          "model_name": "HBoxModel",
          "model_module_version": "1.5.0",
          "state": {
            "_dom_classes": [],
            "_model_module": "@jupyter-widgets/controls",
            "_model_module_version": "1.5.0",
            "_model_name": "HBoxModel",
            "_view_count": null,
            "_view_module": "@jupyter-widgets/controls",
            "_view_module_version": "1.5.0",
            "_view_name": "HBoxView",
            "box_style": "",
            "children": [
              "IPY_MODEL_41f21ba6a95b45f19f5fd16b4b8ea7a7",
              "IPY_MODEL_42aef8bc321a45619a0ee99fd80f4eec",
              "IPY_MODEL_bb106df433644ae5896142212581f727"
            ],
            "layout": "IPY_MODEL_c46094db45174b91a07db209ce999142"
          }
        },
        "41f21ba6a95b45f19f5fd16b4b8ea7a7": {
          "model_module": "@jupyter-widgets/controls",
          "model_name": "HTMLModel",
          "model_module_version": "1.5.0",
          "state": {
            "_dom_classes": [],
            "_model_module": "@jupyter-widgets/controls",
            "_model_module_version": "1.5.0",
            "_model_name": "HTMLModel",
            "_view_count": null,
            "_view_module": "@jupyter-widgets/controls",
            "_view_module_version": "1.5.0",
            "_view_name": "HTMLView",
            "description": "",
            "description_tooltip": null,
            "layout": "IPY_MODEL_f4e9f71948c04037a8a313ac101600c1",
            "placeholder": "​",
            "style": "IPY_MODEL_6ac698c1541f4bb69afc59f9eda17efa",
            "value": "special_tokens_map.json: 100%"
          }
        },
        "42aef8bc321a45619a0ee99fd80f4eec": {
          "model_module": "@jupyter-widgets/controls",
          "model_name": "FloatProgressModel",
          "model_module_version": "1.5.0",
          "state": {
            "_dom_classes": [],
            "_model_module": "@jupyter-widgets/controls",
            "_model_module_version": "1.5.0",
            "_model_name": "FloatProgressModel",
            "_view_count": null,
            "_view_module": "@jupyter-widgets/controls",
            "_view_module_version": "1.5.0",
            "_view_name": "ProgressView",
            "bar_style": "success",
            "description": "",
            "description_tooltip": null,
            "layout": "IPY_MODEL_37bddce024ae4e99a7e221991dff0ec4",
            "max": 85,
            "min": 0,
            "orientation": "horizontal",
            "style": "IPY_MODEL_a67ec853a40944b18630ad64d6d693a1",
            "value": 85
          }
        },
        "bb106df433644ae5896142212581f727": {
          "model_module": "@jupyter-widgets/controls",
          "model_name": "HTMLModel",
          "model_module_version": "1.5.0",
          "state": {
            "_dom_classes": [],
            "_model_module": "@jupyter-widgets/controls",
            "_model_module_version": "1.5.0",
            "_model_name": "HTMLModel",
            "_view_count": null,
            "_view_module": "@jupyter-widgets/controls",
            "_view_module_version": "1.5.0",
            "_view_name": "HTMLView",
            "description": "",
            "description_tooltip": null,
            "layout": "IPY_MODEL_d5413acd992c45ed8380a43ecab59b8f",
            "placeholder": "​",
            "style": "IPY_MODEL_78bd8ac196c747878e13ea073cda03f8",
            "value": " 85.0/85.0 [00:00&lt;00:00, 3.81kB/s]"
          }
        },
        "c46094db45174b91a07db209ce999142": {
          "model_module": "@jupyter-widgets/base",
          "model_name": "LayoutModel",
          "model_module_version": "1.2.0",
          "state": {
            "_model_module": "@jupyter-widgets/base",
            "_model_module_version": "1.2.0",
            "_model_name": "LayoutModel",
            "_view_count": null,
            "_view_module": "@jupyter-widgets/base",
            "_view_module_version": "1.2.0",
            "_view_name": "LayoutView",
            "align_content": null,
            "align_items": null,
            "align_self": null,
            "border": null,
            "bottom": null,
            "display": null,
            "flex": null,
            "flex_flow": null,
            "grid_area": null,
            "grid_auto_columns": null,
            "grid_auto_flow": null,
            "grid_auto_rows": null,
            "grid_column": null,
            "grid_gap": null,
            "grid_row": null,
            "grid_template_areas": null,
            "grid_template_columns": null,
            "grid_template_rows": null,
            "height": null,
            "justify_content": null,
            "justify_items": null,
            "left": null,
            "margin": null,
            "max_height": null,
            "max_width": null,
            "min_height": null,
            "min_width": null,
            "object_fit": null,
            "object_position": null,
            "order": null,
            "overflow": null,
            "overflow_x": null,
            "overflow_y": null,
            "padding": null,
            "right": null,
            "top": null,
            "visibility": null,
            "width": null
          }
        },
        "f4e9f71948c04037a8a313ac101600c1": {
          "model_module": "@jupyter-widgets/base",
          "model_name": "LayoutModel",
          "model_module_version": "1.2.0",
          "state": {
            "_model_module": "@jupyter-widgets/base",
            "_model_module_version": "1.2.0",
            "_model_name": "LayoutModel",
            "_view_count": null,
            "_view_module": "@jupyter-widgets/base",
            "_view_module_version": "1.2.0",
            "_view_name": "LayoutView",
            "align_content": null,
            "align_items": null,
            "align_self": null,
            "border": null,
            "bottom": null,
            "display": null,
            "flex": null,
            "flex_flow": null,
            "grid_area": null,
            "grid_auto_columns": null,
            "grid_auto_flow": null,
            "grid_auto_rows": null,
            "grid_column": null,
            "grid_gap": null,
            "grid_row": null,
            "grid_template_areas": null,
            "grid_template_columns": null,
            "grid_template_rows": null,
            "height": null,
            "justify_content": null,
            "justify_items": null,
            "left": null,
            "margin": null,
            "max_height": null,
            "max_width": null,
            "min_height": null,
            "min_width": null,
            "object_fit": null,
            "object_position": null,
            "order": null,
            "overflow": null,
            "overflow_x": null,
            "overflow_y": null,
            "padding": null,
            "right": null,
            "top": null,
            "visibility": null,
            "width": null
          }
        },
        "6ac698c1541f4bb69afc59f9eda17efa": {
          "model_module": "@jupyter-widgets/controls",
          "model_name": "DescriptionStyleModel",
          "model_module_version": "1.5.0",
          "state": {
            "_model_module": "@jupyter-widgets/controls",
            "_model_module_version": "1.5.0",
            "_model_name": "DescriptionStyleModel",
            "_view_count": null,
            "_view_module": "@jupyter-widgets/base",
            "_view_module_version": "1.2.0",
            "_view_name": "StyleView",
            "description_width": ""
          }
        },
        "37bddce024ae4e99a7e221991dff0ec4": {
          "model_module": "@jupyter-widgets/base",
          "model_name": "LayoutModel",
          "model_module_version": "1.2.0",
          "state": {
            "_model_module": "@jupyter-widgets/base",
            "_model_module_version": "1.2.0",
            "_model_name": "LayoutModel",
            "_view_count": null,
            "_view_module": "@jupyter-widgets/base",
            "_view_module_version": "1.2.0",
            "_view_name": "LayoutView",
            "align_content": null,
            "align_items": null,
            "align_self": null,
            "border": null,
            "bottom": null,
            "display": null,
            "flex": null,
            "flex_flow": null,
            "grid_area": null,
            "grid_auto_columns": null,
            "grid_auto_flow": null,
            "grid_auto_rows": null,
            "grid_column": null,
            "grid_gap": null,
            "grid_row": null,
            "grid_template_areas": null,
            "grid_template_columns": null,
            "grid_template_rows": null,
            "height": null,
            "justify_content": null,
            "justify_items": null,
            "left": null,
            "margin": null,
            "max_height": null,
            "max_width": null,
            "min_height": null,
            "min_width": null,
            "object_fit": null,
            "object_position": null,
            "order": null,
            "overflow": null,
            "overflow_x": null,
            "overflow_y": null,
            "padding": null,
            "right": null,
            "top": null,
            "visibility": null,
            "width": null
          }
        },
        "a67ec853a40944b18630ad64d6d693a1": {
          "model_module": "@jupyter-widgets/controls",
          "model_name": "ProgressStyleModel",
          "model_module_version": "1.5.0",
          "state": {
            "_model_module": "@jupyter-widgets/controls",
            "_model_module_version": "1.5.0",
            "_model_name": "ProgressStyleModel",
            "_view_count": null,
            "_view_module": "@jupyter-widgets/base",
            "_view_module_version": "1.2.0",
            "_view_name": "StyleView",
            "bar_color": null,
            "description_width": ""
          }
        },
        "d5413acd992c45ed8380a43ecab59b8f": {
          "model_module": "@jupyter-widgets/base",
          "model_name": "LayoutModel",
          "model_module_version": "1.2.0",
          "state": {
            "_model_module": "@jupyter-widgets/base",
            "_model_module_version": "1.2.0",
            "_model_name": "LayoutModel",
            "_view_count": null,
            "_view_module": "@jupyter-widgets/base",
            "_view_module_version": "1.2.0",
            "_view_name": "LayoutView",
            "align_content": null,
            "align_items": null,
            "align_self": null,
            "border": null,
            "bottom": null,
            "display": null,
            "flex": null,
            "flex_flow": null,
            "grid_area": null,
            "grid_auto_columns": null,
            "grid_auto_flow": null,
            "grid_auto_rows": null,
            "grid_column": null,
            "grid_gap": null,
            "grid_row": null,
            "grid_template_areas": null,
            "grid_template_columns": null,
            "grid_template_rows": null,
            "height": null,
            "justify_content": null,
            "justify_items": null,
            "left": null,
            "margin": null,
            "max_height": null,
            "max_width": null,
            "min_height": null,
            "min_width": null,
            "object_fit": null,
            "object_position": null,
            "order": null,
            "overflow": null,
            "overflow_x": null,
            "overflow_y": null,
            "padding": null,
            "right": null,
            "top": null,
            "visibility": null,
            "width": null
          }
        },
        "78bd8ac196c747878e13ea073cda03f8": {
          "model_module": "@jupyter-widgets/controls",
          "model_name": "DescriptionStyleModel",
          "model_module_version": "1.5.0",
          "state": {
            "_model_module": "@jupyter-widgets/controls",
            "_model_module_version": "1.5.0",
            "_model_name": "DescriptionStyleModel",
            "_view_count": null,
            "_view_module": "@jupyter-widgets/base",
            "_view_module_version": "1.2.0",
            "_view_name": "StyleView",
            "description_width": ""
          }
        },
        "2aa504753d4b4328a998c05d21c706b2": {
          "model_module": "@jupyter-widgets/controls",
          "model_name": "HBoxModel",
          "model_module_version": "1.5.0",
          "state": {
            "_dom_classes": [],
            "_model_module": "@jupyter-widgets/controls",
            "_model_module_version": "1.5.0",
            "_model_name": "HBoxModel",
            "_view_count": null,
            "_view_module": "@jupyter-widgets/controls",
            "_view_module_version": "1.5.0",
            "_view_name": "HBoxView",
            "box_style": "",
            "children": [
              "IPY_MODEL_c4ea7a546dfb43b0850f2bcb52fd3e39",
              "IPY_MODEL_ac6a2c3a45c24ca28646e2ef28b0360b",
              "IPY_MODEL_99fcb0a3045b42e1b8eac21ca6f61f09"
            ],
            "layout": "IPY_MODEL_b0fe3b5508cc4b39837122e1bb4fff9d"
          }
        },
        "c4ea7a546dfb43b0850f2bcb52fd3e39": {
          "model_module": "@jupyter-widgets/controls",
          "model_name": "HTMLModel",
          "model_module_version": "1.5.0",
          "state": {
            "_dom_classes": [],
            "_model_module": "@jupyter-widgets/controls",
            "_model_module_version": "1.5.0",
            "_model_name": "HTMLModel",
            "_view_count": null,
            "_view_module": "@jupyter-widgets/controls",
            "_view_module_version": "1.5.0",
            "_view_name": "HTMLView",
            "description": "",
            "description_tooltip": null,
            "layout": "IPY_MODEL_64e90ce0b62a4092b23f451ae470cac3",
            "placeholder": "​",
            "style": "IPY_MODEL_ce3e4a7fb8014da5b28d50bdbd8b57c6",
            "value": "preprocessor_config.json: 100%"
          }
        },
        "ac6a2c3a45c24ca28646e2ef28b0360b": {
          "model_module": "@jupyter-widgets/controls",
          "model_name": "FloatProgressModel",
          "model_module_version": "1.5.0",
          "state": {
            "_dom_classes": [],
            "_model_module": "@jupyter-widgets/controls",
            "_model_module_version": "1.5.0",
            "_model_name": "FloatProgressModel",
            "_view_count": null,
            "_view_module": "@jupyter-widgets/controls",
            "_view_module_version": "1.5.0",
            "_view_name": "ProgressView",
            "bar_style": "success",
            "description": "",
            "description_tooltip": null,
            "layout": "IPY_MODEL_f23c389b054e4141b23fea12687e3db3",
            "max": 262,
            "min": 0,
            "orientation": "horizontal",
            "style": "IPY_MODEL_df3e7065722949fbbcfef35f50ce77e9",
            "value": 262
          }
        },
        "99fcb0a3045b42e1b8eac21ca6f61f09": {
          "model_module": "@jupyter-widgets/controls",
          "model_name": "HTMLModel",
          "model_module_version": "1.5.0",
          "state": {
            "_dom_classes": [],
            "_model_module": "@jupyter-widgets/controls",
            "_model_module_version": "1.5.0",
            "_model_name": "HTMLModel",
            "_view_count": null,
            "_view_module": "@jupyter-widgets/controls",
            "_view_module_version": "1.5.0",
            "_view_name": "HTMLView",
            "description": "",
            "description_tooltip": null,
            "layout": "IPY_MODEL_e56921e72e514921a7796d0e9d7ed578",
            "placeholder": "​",
            "style": "IPY_MODEL_8188372141e24369b67da3278d694d28",
            "value": " 262/262 [00:00&lt;00:00, 15.9kB/s]"
          }
        },
        "b0fe3b5508cc4b39837122e1bb4fff9d": {
          "model_module": "@jupyter-widgets/base",
          "model_name": "LayoutModel",
          "model_module_version": "1.2.0",
          "state": {
            "_model_module": "@jupyter-widgets/base",
            "_model_module_version": "1.2.0",
            "_model_name": "LayoutModel",
            "_view_count": null,
            "_view_module": "@jupyter-widgets/base",
            "_view_module_version": "1.2.0",
            "_view_name": "LayoutView",
            "align_content": null,
            "align_items": null,
            "align_self": null,
            "border": null,
            "bottom": null,
            "display": null,
            "flex": null,
            "flex_flow": null,
            "grid_area": null,
            "grid_auto_columns": null,
            "grid_auto_flow": null,
            "grid_auto_rows": null,
            "grid_column": null,
            "grid_gap": null,
            "grid_row": null,
            "grid_template_areas": null,
            "grid_template_columns": null,
            "grid_template_rows": null,
            "height": null,
            "justify_content": null,
            "justify_items": null,
            "left": null,
            "margin": null,
            "max_height": null,
            "max_width": null,
            "min_height": null,
            "min_width": null,
            "object_fit": null,
            "object_position": null,
            "order": null,
            "overflow": null,
            "overflow_x": null,
            "overflow_y": null,
            "padding": null,
            "right": null,
            "top": null,
            "visibility": null,
            "width": null
          }
        },
        "64e90ce0b62a4092b23f451ae470cac3": {
          "model_module": "@jupyter-widgets/base",
          "model_name": "LayoutModel",
          "model_module_version": "1.2.0",
          "state": {
            "_model_module": "@jupyter-widgets/base",
            "_model_module_version": "1.2.0",
            "_model_name": "LayoutModel",
            "_view_count": null,
            "_view_module": "@jupyter-widgets/base",
            "_view_module_version": "1.2.0",
            "_view_name": "LayoutView",
            "align_content": null,
            "align_items": null,
            "align_self": null,
            "border": null,
            "bottom": null,
            "display": null,
            "flex": null,
            "flex_flow": null,
            "grid_area": null,
            "grid_auto_columns": null,
            "grid_auto_flow": null,
            "grid_auto_rows": null,
            "grid_column": null,
            "grid_gap": null,
            "grid_row": null,
            "grid_template_areas": null,
            "grid_template_columns": null,
            "grid_template_rows": null,
            "height": null,
            "justify_content": null,
            "justify_items": null,
            "left": null,
            "margin": null,
            "max_height": null,
            "max_width": null,
            "min_height": null,
            "min_width": null,
            "object_fit": null,
            "object_position": null,
            "order": null,
            "overflow": null,
            "overflow_x": null,
            "overflow_y": null,
            "padding": null,
            "right": null,
            "top": null,
            "visibility": null,
            "width": null
          }
        },
        "ce3e4a7fb8014da5b28d50bdbd8b57c6": {
          "model_module": "@jupyter-widgets/controls",
          "model_name": "DescriptionStyleModel",
          "model_module_version": "1.5.0",
          "state": {
            "_model_module": "@jupyter-widgets/controls",
            "_model_module_version": "1.5.0",
            "_model_name": "DescriptionStyleModel",
            "_view_count": null,
            "_view_module": "@jupyter-widgets/base",
            "_view_module_version": "1.2.0",
            "_view_name": "StyleView",
            "description_width": ""
          }
        },
        "f23c389b054e4141b23fea12687e3db3": {
          "model_module": "@jupyter-widgets/base",
          "model_name": "LayoutModel",
          "model_module_version": "1.2.0",
          "state": {
            "_model_module": "@jupyter-widgets/base",
            "_model_module_version": "1.2.0",
            "_model_name": "LayoutModel",
            "_view_count": null,
            "_view_module": "@jupyter-widgets/base",
            "_view_module_version": "1.2.0",
            "_view_name": "LayoutView",
            "align_content": null,
            "align_items": null,
            "align_self": null,
            "border": null,
            "bottom": null,
            "display": null,
            "flex": null,
            "flex_flow": null,
            "grid_area": null,
            "grid_auto_columns": null,
            "grid_auto_flow": null,
            "grid_auto_rows": null,
            "grid_column": null,
            "grid_gap": null,
            "grid_row": null,
            "grid_template_areas": null,
            "grid_template_columns": null,
            "grid_template_rows": null,
            "height": null,
            "justify_content": null,
            "justify_items": null,
            "left": null,
            "margin": null,
            "max_height": null,
            "max_width": null,
            "min_height": null,
            "min_width": null,
            "object_fit": null,
            "object_position": null,
            "order": null,
            "overflow": null,
            "overflow_x": null,
            "overflow_y": null,
            "padding": null,
            "right": null,
            "top": null,
            "visibility": null,
            "width": null
          }
        },
        "df3e7065722949fbbcfef35f50ce77e9": {
          "model_module": "@jupyter-widgets/controls",
          "model_name": "ProgressStyleModel",
          "model_module_version": "1.5.0",
          "state": {
            "_model_module": "@jupyter-widgets/controls",
            "_model_module_version": "1.5.0",
            "_model_name": "ProgressStyleModel",
            "_view_count": null,
            "_view_module": "@jupyter-widgets/base",
            "_view_module_version": "1.2.0",
            "_view_name": "StyleView",
            "bar_color": null,
            "description_width": ""
          }
        },
        "e56921e72e514921a7796d0e9d7ed578": {
          "model_module": "@jupyter-widgets/base",
          "model_name": "LayoutModel",
          "model_module_version": "1.2.0",
          "state": {
            "_model_module": "@jupyter-widgets/base",
            "_model_module_version": "1.2.0",
            "_model_name": "LayoutModel",
            "_view_count": null,
            "_view_module": "@jupyter-widgets/base",
            "_view_module_version": "1.2.0",
            "_view_name": "LayoutView",
            "align_content": null,
            "align_items": null,
            "align_self": null,
            "border": null,
            "bottom": null,
            "display": null,
            "flex": null,
            "flex_flow": null,
            "grid_area": null,
            "grid_auto_columns": null,
            "grid_auto_flow": null,
            "grid_auto_rows": null,
            "grid_column": null,
            "grid_gap": null,
            "grid_row": null,
            "grid_template_areas": null,
            "grid_template_columns": null,
            "grid_template_rows": null,
            "height": null,
            "justify_content": null,
            "justify_items": null,
            "left": null,
            "margin": null,
            "max_height": null,
            "max_width": null,
            "min_height": null,
            "min_width": null,
            "object_fit": null,
            "object_position": null,
            "order": null,
            "overflow": null,
            "overflow_x": null,
            "overflow_y": null,
            "padding": null,
            "right": null,
            "top": null,
            "visibility": null,
            "width": null
          }
        },
        "8188372141e24369b67da3278d694d28": {
          "model_module": "@jupyter-widgets/controls",
          "model_name": "DescriptionStyleModel",
          "model_module_version": "1.5.0",
          "state": {
            "_model_module": "@jupyter-widgets/controls",
            "_model_module_version": "1.5.0",
            "_model_name": "DescriptionStyleModel",
            "_view_count": null,
            "_view_module": "@jupyter-widgets/base",
            "_view_module_version": "1.2.0",
            "_view_name": "StyleView",
            "description_width": ""
          }
        }
      }
    }
  },
  "cells": [
    {
      "cell_type": "markdown",
      "source": [
        "# ASR"
      ],
      "metadata": {
        "id": "9jrVcPQX2_Bu"
      }
    },
    {
      "cell_type": "code",
      "execution_count": null,
      "metadata": {
        "id": "gChjGDCFqv2e"
      },
      "outputs": [],
      "source": [
        "!pip install \"git+https://github.com/ytdl-org/youtube-dl.git\"\n",
        "!pip install SpeechRecognition\n",
        "!pip install git+https://github.com/openai/whisper.git soundfile\n",
        "!pip install assemblyai\n",
        "!pip install jiwer"
      ]
    },
    {
      "cell_type": "markdown",
      "source": [
        "## YouTube"
      ],
      "metadata": {
        "id": "MlrUE5RrJA0N"
      }
    },
    {
      "cell_type": "markdown",
      "source": [
        "Аудио и субтитры скачиваем через youtube-dl."
      ],
      "metadata": {
        "id": "voIRJIN1KTqQ"
      }
    },
    {
      "cell_type": "code",
      "source": [
        "!youtube-dl --write-auto-sub --sub-lang es -x --audio-format wav https://www.youtube.com/watch?v=BGfRFX90POk"
      ],
      "metadata": {
        "colab": {
          "base_uri": "https://localhost:8080/"
        },
        "id": "Aswptx1Gq9Oj",
        "outputId": "37c5b308-157b-4380-eca7-6ec7aa7c188c"
      },
      "execution_count": 2,
      "outputs": [
        {
          "output_type": "stream",
          "name": "stdout",
          "text": [
            "[youtube] BGfRFX90POk: Downloading webpage\n",
            "[youtube] BGfRFX90POk: Downloading player da154528\n",
            "[info] Writing video subtitles to: Marta Soto - Entre otros cien (Lyric Video)-BGfRFX90POk.es.vtt\n",
            "[dashsegments] Total fragments: 1\n",
            "[download] Destination: Marta Soto - Entre otros cien (Lyric Video)-BGfRFX90POk.webm\n",
            "\u001b[K[download] 100% of 3.65MiB in 00:00\n",
            "[ffmpeg] Destination: Marta Soto - Entre otros cien (Lyric Video)-BGfRFX90POk.wav\n",
            "Deleting original file Marta Soto - Entre otros cien (Lyric Video)-BGfRFX90POk.webm (pass -k to keep)\n"
          ]
        }
      ]
    },
    {
      "cell_type": "code",
      "source": [
        "auto_subs_filename = \"/content/Marta Soto - Entre otros cien (Lyric Video)-BGfRFX90POk.es.vtt\"\n",
        "audio_filename = \"/content/Marta Soto - Entre otros cien (Lyric Video)-BGfRFX90POk.wav\""
      ],
      "metadata": {
        "id": "fuDCAQRguzw0"
      },
      "execution_count": 3,
      "outputs": []
    },
    {
      "cell_type": "markdown",
      "source": [
        "Удаляем timestamps, оставляем только субтитры. Видим, что у строк есть дубликаты."
      ],
      "metadata": {
        "id": "sZHZIPvzIvyt"
      }
    },
    {
      "cell_type": "code",
      "source": [
        "import re\n",
        "\n",
        "auto_subs = []\n",
        "\n",
        "with open(auto_subs_filename) as vtt_file:\n",
        "    for line in vtt_file:\n",
        "        line = line.strip()\n",
        "        if len(line) > 0 and line[0].isalpha():\n",
        "            line = re.sub(r'<.*?>', '', line)\n",
        "            auto_subs.append(line)\n",
        "\n",
        "auto_subs[:20]"
      ],
      "metadata": {
        "colab": {
          "base_uri": "https://localhost:8080/"
        },
        "id": "yJOSwUjtIs9R",
        "outputId": "b6a0201d-096b-4070-d37a-ac629c38c877"
      },
      "execution_count": 4,
      "outputs": [
        {
          "output_type": "execute_result",
          "data": {
            "text/plain": [
              "['WEBVTT',\n",
              " 'Kind: captions',\n",
              " 'Language: es',\n",
              " 'ah',\n",
              " 'ah',\n",
              " 'ah',\n",
              " 'y',\n",
              " 'y',\n",
              " 'y',\n",
              " 'sí',\n",
              " 'vengo caminando pago un precio razonable',\n",
              " 'vengo caminando pago un precio razonable',\n",
              " 'vengo caminando pago un precio razonable',\n",
              " 'por los actos que me gasto',\n",
              " 'por los actos que me gasto',\n",
              " 'por los actos que me gasto',\n",
              " 'quiero que el mañana me sorprenda sin',\n",
              " 'quiero que el mañana me sorprenda sin',\n",
              " 'quiero que el mañana me sorprenda sin',\n",
              " 'tener una respuesta a preguntas que me']"
            ]
          },
          "metadata": {},
          "execution_count": 4
        }
      ]
    },
    {
      "cell_type": "markdown",
      "source": [
        "Удаляем три первые (лишние) строки и схлопываем дубликаты."
      ],
      "metadata": {
        "id": "KSYYDETU3ROD"
      }
    },
    {
      "cell_type": "code",
      "source": [
        "auto_subs = auto_subs[3:]\n",
        "auto_subs = [auto_subs[i] for i in range(len(auto_subs)) if (i==0) or auto_subs[i] != auto_subs[i-1]]\n",
        "auto_subs = [' '.join(auto_subs)]\n",
        "print(auto_subs[0][:100])"
      ],
      "metadata": {
        "colab": {
          "base_uri": "https://localhost:8080/"
        },
        "id": "LB7apY9Qxrer",
        "outputId": "41ef2daa-3ace-4520-d251-a9f707624726"
      },
      "execution_count": 5,
      "outputs": [
        {
          "output_type": "stream",
          "name": "stdout",
          "text": [
            "ah y sí vengo caminando pago un precio razonable por los actos que me gasto quiero que el mañana me \n"
          ]
        }
      ]
    },
    {
      "cell_type": "markdown",
      "source": [
        "Функция для препроцессинга (удаляет пунктуацию, приводит к lowercase, делит на токены)."
      ],
      "metadata": {
        "id": "8xc6r-Po6XAo"
      }
    },
    {
      "cell_type": "code",
      "source": [
        "def preprocess(text):\n",
        "    text = re.sub(r'[^\\w\\s]', '', text)\n",
        "    text = text.lower().strip()\n",
        "    text = text.replace(\"\\n\", \" \")\n",
        "    return [text]"
      ],
      "metadata": {
        "id": "HNXfKXnd53Z3"
      },
      "execution_count": 6,
      "outputs": []
    },
    {
      "cell_type": "markdown",
      "source": [
        "## Transformers (одна из wav2vec2 моделей для испанского)"
      ],
      "metadata": {
        "id": "74tqlIVG7zXu"
      }
    },
    {
      "cell_type": "code",
      "source": [
        "from transformers import pipeline\n",
        "\n",
        "transcriber = pipeline(\"automatic-speech-recognition\", \"jonatasgrosman/wav2vec2-large-xlsr-53-spanish\")\n",
        "wav2vec2_subs = transcriber(audio_filename, chunk_length_s=20)[\"text\"]"
      ],
      "metadata": {
        "colab": {
          "base_uri": "https://localhost:8080/",
          "height": 336,
          "referenced_widgets": [
            "5850475f03a74888a0e3403c624967b4",
            "f3a8de0275b2468da9fe956f5790b19a",
            "cecc36f636c2472881a6468bdd8cc76c",
            "c8eaa942654846438256f7a08a16e659",
            "fbda0f46b5d44a65b60f3c1063a81113",
            "6d970c53beb9459c8fa8967b6e1d76a2",
            "e19cdff3beb741d6a448b3af9b42a9c2",
            "630df78313be44eb93ce69a8acb498fa",
            "ec662bf2fcc04177b19187b327f0c21d",
            "639de412a3594268af5bc6927afeb1f2",
            "598398dea31942fc862199326cc0653b",
            "d84fa4c697c74e2886abe99f7ab9b425",
            "8cdee223fef24d9db851ae6b9bc0d8a9",
            "45df29aceff84d139ef13b62e9d6368d",
            "a78f6ddbf6754ba895ad70a535da8f93",
            "24565607b97541818602130986175cfc",
            "9971ae81344940198cb70700225e14b9",
            "a0fdda36a12248fbac4cea6295b456f4",
            "756650dfc58743989a63a80dd735514b",
            "56684b8923974133bff6eafafe41843f",
            "7f0a70c9e2f843b7a9636bd8cd87eebb",
            "9c1f82c9be024d1b95665da262a053ba",
            "f343204e877043d3bc3259b501aff311",
            "f241f3a345134f71af6cd09f872dd5a4",
            "c280f2b40ec649378dbcc95f36f9bf3b",
            "88690e51ac11429fbef1ae361ce2d076",
            "1c8c2cc94d1b421b9284a982b9798610",
            "ab3964af05f247b8a27555f10c12a3ba",
            "af6ab8f6cd2641c981f6ccdf5a7fe510",
            "243e612264e9425eae310d09b5ee1e83",
            "8c4067c8d1ec4ecf9f6e1ea1433509dd",
            "f27c270da5c746dcb25c53ce49994aae",
            "ff43461e1bfc4d55b719817015ec1195",
            "103274745a974bdfa59a0c7cbcefc078",
            "41f21ba6a95b45f19f5fd16b4b8ea7a7",
            "42aef8bc321a45619a0ee99fd80f4eec",
            "bb106df433644ae5896142212581f727",
            "c46094db45174b91a07db209ce999142",
            "f4e9f71948c04037a8a313ac101600c1",
            "6ac698c1541f4bb69afc59f9eda17efa",
            "37bddce024ae4e99a7e221991dff0ec4",
            "a67ec853a40944b18630ad64d6d693a1",
            "d5413acd992c45ed8380a43ecab59b8f",
            "78bd8ac196c747878e13ea073cda03f8",
            "2aa504753d4b4328a998c05d21c706b2",
            "c4ea7a546dfb43b0850f2bcb52fd3e39",
            "ac6a2c3a45c24ca28646e2ef28b0360b",
            "99fcb0a3045b42e1b8eac21ca6f61f09",
            "b0fe3b5508cc4b39837122e1bb4fff9d",
            "64e90ce0b62a4092b23f451ae470cac3",
            "ce3e4a7fb8014da5b28d50bdbd8b57c6",
            "f23c389b054e4141b23fea12687e3db3",
            "df3e7065722949fbbcfef35f50ce77e9",
            "e56921e72e514921a7796d0e9d7ed578",
            "8188372141e24369b67da3278d694d28"
          ]
        },
        "id": "gSHfJD6L7y-K",
        "outputId": "7a7b1b64-3d73-4346-9d9f-c717e1f9d57b"
      },
      "execution_count": 7,
      "outputs": [
        {
          "output_type": "display_data",
          "data": {
            "text/plain": [
              "config.json:   0%|          | 0.00/1.53k [00:00<?, ?B/s]"
            ],
            "application/vnd.jupyter.widget-view+json": {
              "version_major": 2,
              "version_minor": 0,
              "model_id": "5850475f03a74888a0e3403c624967b4"
            }
          },
          "metadata": {}
        },
        {
          "output_type": "display_data",
          "data": {
            "text/plain": [
              "pytorch_model.bin:   0%|          | 0.00/1.26G [00:00<?, ?B/s]"
            ],
            "application/vnd.jupyter.widget-view+json": {
              "version_major": 2,
              "version_minor": 0,
              "model_id": "d84fa4c697c74e2886abe99f7ab9b425"
            }
          },
          "metadata": {}
        },
        {
          "output_type": "stream",
          "name": "stderr",
          "text": [
            "Some weights of the model checkpoint at jonatasgrosman/wav2vec2-large-xlsr-53-spanish were not used when initializing Wav2Vec2ForCTC: ['wav2vec2.encoder.pos_conv_embed.conv.weight_g', 'wav2vec2.encoder.pos_conv_embed.conv.weight_v']\n",
            "- This IS expected if you are initializing Wav2Vec2ForCTC from the checkpoint of a model trained on another task or with another architecture (e.g. initializing a BertForSequenceClassification model from a BertForPreTraining model).\n",
            "- This IS NOT expected if you are initializing Wav2Vec2ForCTC from the checkpoint of a model that you expect to be exactly identical (initializing a BertForSequenceClassification model from a BertForSequenceClassification model).\n",
            "Some weights of Wav2Vec2ForCTC were not initialized from the model checkpoint at jonatasgrosman/wav2vec2-large-xlsr-53-spanish and are newly initialized: ['wav2vec2.encoder.pos_conv_embed.conv.parametrizations.weight.original1', 'wav2vec2.encoder.pos_conv_embed.conv.parametrizations.weight.original0']\n",
            "You should probably TRAIN this model on a down-stream task to be able to use it for predictions and inference.\n"
          ]
        },
        {
          "output_type": "display_data",
          "data": {
            "text/plain": [
              "vocab.json:   0%|          | 0.00/380 [00:00<?, ?B/s]"
            ],
            "application/vnd.jupyter.widget-view+json": {
              "version_major": 2,
              "version_minor": 0,
              "model_id": "f343204e877043d3bc3259b501aff311"
            }
          },
          "metadata": {}
        },
        {
          "output_type": "display_data",
          "data": {
            "text/plain": [
              "special_tokens_map.json:   0%|          | 0.00/85.0 [00:00<?, ?B/s]"
            ],
            "application/vnd.jupyter.widget-view+json": {
              "version_major": 2,
              "version_minor": 0,
              "model_id": "103274745a974bdfa59a0c7cbcefc078"
            }
          },
          "metadata": {}
        },
        {
          "output_type": "display_data",
          "data": {
            "text/plain": [
              "preprocessor_config.json:   0%|          | 0.00/262 [00:00<?, ?B/s]"
            ],
            "application/vnd.jupyter.widget-view+json": {
              "version_major": 2,
              "version_minor": 0,
              "model_id": "2aa504753d4b4328a998c05d21c706b2"
            }
          },
          "metadata": {}
        },
        {
          "output_type": "stream",
          "name": "stderr",
          "text": [
            "Could not load the `decoder` for jonatasgrosman/wav2vec2-large-xlsr-53-spanish. Defaulting to raw CTC. Error: No module named 'kenlm'\n",
            "Try to install `kenlm`: `pip install kenlm\n",
            "Try to install `pyctcdecode`: `pip install pyctcdecode\n"
          ]
        }
      ]
    },
    {
      "cell_type": "code",
      "source": [
        "wav2vec2_subs"
      ],
      "metadata": {
        "colab": {
          "base_uri": "https://localhost:8080/",
          "height": 140
        },
        "id": "8YmAzg0WBZ9x",
        "outputId": "c5436ffd-18e6-43c5-990a-43e2d071460c"
      },
      "execution_count": 8,
      "outputs": [
        {
          "output_type": "execute_result",
          "data": {
            "text/plain": [
              "'a itdororeimbertopofovengo caminando paga un precio razonable por los sactos que me gasto quiero que el mañana me sorprenda sin tener una respuesta a preguntas que me vengo sin querer venir queriando gamisueños se produzca cuando sigo imaginando querocases movela in tu ifen y saltar a tus botones sin dar es plecación timei mconferesteira odescubro cuando me queda por ever queas lo que pasarán cuando pase otro otri paseando por la calle encontrar rostro entre otros vige mil millones de miradas mes secuestrarán en mil millones de verbúmes pero tú estando leos m pregaras primavecavengo retratando que hoy es siempre y siempre viven el presente de poder ser un granvia quedaron renmentar una manera de soñar y quedarme cualquier viernes dormida en el sofa vengo a terrizando por los miedos cadavía que ahora son abladurías que ye no miempañsar quearó que algún idea pueda berca todavía toda esta palabrarí sigue haciendo debea tremas recones esteiraqun oberscuro cuando me queda pobeda que es lo que pas dará cuanno pase otro otra si paseando con la calle contrara ros entrotros días cnmil meñores de migradas mes secuestraa quen mil meyeones debecumas ero tú escandor lecos me regaras primadasq como descubro cuánto me queda porva ques lo que pasará cuando pase otra otra si paseando por la calla encontraraturostre eltreotrosean en milmeores deanitradas mesecuestraras en mil meyores demesbubes berodo es mbondolaynas merbeganas demama oasenebradaao'"
            ],
            "application/vnd.google.colaboratory.intrinsic+json": {
              "type": "string"
            }
          },
          "metadata": {},
          "execution_count": 8
        }
      ]
    },
    {
      "cell_type": "code",
      "source": [
        "wav2vec2_subs = preprocess(wav2vec2_subs)"
      ],
      "metadata": {
        "id": "c1reCifHFB_i"
      },
      "execution_count": 9,
      "outputs": []
    },
    {
      "cell_type": "markdown",
      "source": [
        "## AssemblyAI"
      ],
      "metadata": {
        "id": "VnLQlOa9-1h3"
      }
    },
    {
      "cell_type": "code",
      "source": [
        "import assemblyai as aai\n",
        "\n",
        "aai.settings.api_key = '057d003bc23c402fbcced728aff1a642'\n",
        "config = aai.TranscriptionConfig(language_code=\"es\")\n",
        "transcriber = aai.Transcriber(config=config)\n",
        "transcript = transcriber.transcribe(audio_filename)\n",
        "\n",
        "assemblyai_subs = transcript.text\n",
        "assemblyai_subs"
      ],
      "metadata": {
        "colab": {
          "base_uri": "https://localhost:8080/",
          "height": 140
        },
        "id": "beFIZMPO9JMu",
        "outputId": "ef7bd034-eb46-447c-a943-3e1f6d6bd4e3"
      },
      "execution_count": 10,
      "outputs": [
        {
          "output_type": "execute_result",
          "data": {
            "text/plain": [
              "'Vengo caminando, pago un precio razonable por los actos que me gasto Quiero que el mañana me sorprenda sin tener una respuesta a preguntas que me hago Vengo sin querer venir queriendo que mis sueños se produzcan Cuando sigo imaginando Quiero que se esfume la intuición Y saltar a tus botones sin dar explicación Dime si me concedes este amor ¿Cómo descubro cuánto me queda por ver? ¿Qué es lo que pasará cuando pase otro tren? Si paseando por la calle encontraré Tu rostro entre otros diez Cien mil millones de miradas me secuestrarán Cien mil millones de perfumes Pero tú, estando lejos, me regalas primavera Retratando que hoy es siempre y siempre vive en el presente De poder ser un gran día Quiero reinventar una manera de soñar Y quedarme cualquier viernes dormida en el sofá Vengo aterrizando por los miedos que tenía Que ahora son habladurías que ya no me hacen pensar Quiero que algún día pueda ver que todavía Toda esta palabrería Siga siendo de verdad Dime si me concedes este aire ¿Qué? ¿Cómo descubro cuánto me queda por ver? ¿Qué es lo que pasará cuando pase otro tren? Si paseando por la calle encontraré Entre otros diez mil millones de miradas Me secuestrarán cien mil millones de perfumes Pero tú, estando lejos, me regalas primavera ¿Qué? ¿Cómo descubro cuánto me queda por ver? ¿Qué es lo que pasará cuando pase otro tren? Si paseando por la calle encontraré Cien mil millones de miradas me secuestrarán Cien mil millones de perfumes pero tú Estando lejos me regalas primavera'"
            ],
            "application/vnd.google.colaboratory.intrinsic+json": {
              "type": "string"
            }
          },
          "metadata": {},
          "execution_count": 10
        }
      ]
    },
    {
      "cell_type": "code",
      "source": [
        "assemblyai_subs = preprocess(assemblyai_subs)"
      ],
      "metadata": {
        "id": "_gsSIWHW-utv"
      },
      "execution_count": 11,
      "outputs": []
    },
    {
      "cell_type": "markdown",
      "source": [
        "## Speech Recognition (Whisper)"
      ],
      "metadata": {
        "id": "BKyRLivvFnHA"
      }
    },
    {
      "cell_type": "code",
      "source": [
        "import speech_recognition as sr\n",
        "\n",
        "r = sr.Recognizer()\n",
        "with sr.AudioFile(audio_filename) as source:\n",
        "    audio = r.record(source)\n",
        "\n",
        "whisper_subs = r.recognize_whisper(audio, language=\"spanish\")\n",
        "whisper_subs"
      ],
      "metadata": {
        "colab": {
          "base_uri": "https://localhost:8080/",
          "height": 157
        },
        "id": "uIVNtpl1FjYy",
        "outputId": "a9b3fd61-08bb-4cb4-9b92-f423d138fffe"
      },
      "execution_count": 12,
      "outputs": [
        {
          "output_type": "stream",
          "name": "stderr",
          "text": [
            "100%|████████████████████████████████████████| 139M/139M [00:01<00:00, 118MiB/s]\n"
          ]
        },
        {
          "output_type": "execute_result",
          "data": {
            "text/plain": [
              "\" Vengo caminando pa' con precio razonable por los actos Que me gasto, quiero que el mañana me sorprenda sin tener una respuesta a preguntas que me hago Vengo sin querer venir queriendo que a mis sueños se produzca cuando sigo imaginando, quiero que asesfube la intuición y saltara tus botones sin dar explicación dime si me confes este aire Que como descubro cuanto me queda por ver que es lo que pasará cuando pase otro tren si paseando por la calle encontraré tu brostro entre otros bien y en mil millones de miradas me secuestrarán y en mil millones de perfumes pero tú estándole los negras primaveras Vengo retratando que hoy siempre y siempre viven el presente de poder ser un gran día quiero reingentar una manera de soñar y quedarme cualquier viernes dormida en el sofá Vengo a terrizando por los miedos que tenía que ahora son nebladurías que lleno me hacen pa' yzar quiero que algún día pueda ver que todavía toda esta palabra iría siga siendo de veridad dime si me confes este aire Que como descubro cuanto me queda por ver que es lo que pasará cuando pase otro tren si paseando por la calle encontraré tu brostro entre otros bien y en mil millones de miradas me secuestrarán en mil millones de perfumes pero tú estándole los negras primaveras que como descubro cuanto me queda por ver que es lo que pasará cuando pase otro tren si paseando por la calle encontraré tu brostro entre otros bien y en mil millones de miradas me secuestrarán en mil millones de perfumes pero tú estándole los negras primaveras y ahora no me hagas un poco de la vida si no me hagas un poco de la vida si no me hagas un poco de la vida si no me hagas un poco de la vida si no me hagas un poco de la vida si no me hagas un poco de la vida si no me hagas un poco de la vida si no me hagas un poco de la vida si no me hagas un poco de la vida si no me hagas un poco de la vida\""
            ],
            "application/vnd.google.colaboratory.intrinsic+json": {
              "type": "string"
            }
          },
          "metadata": {},
          "execution_count": 12
        }
      ]
    },
    {
      "cell_type": "code",
      "source": [
        "whisper_subs = preprocess(whisper_subs)"
      ],
      "metadata": {
        "id": "zvV7fsNQHo3g"
      },
      "execution_count": 13,
      "outputs": []
    },
    {
      "cell_type": "markdown",
      "source": [
        "## Эталон"
      ],
      "metadata": {
        "id": "DeRuecoaIfri"
      }
    },
    {
      "cell_type": "code",
      "source": [
        "ground_truth = \\\n",
        "\"\"\"\n",
        "Vengo caminando, pago un precio razonable\n",
        "Por los actos que me gasto\n",
        "Quiero que el mañana me sorprenda\n",
        "Sin tener una respuesta\n",
        "A preguntas que me hago\n",
        "Vengo, sin querer venir queriendo\n",
        "Que mis sueños se produzcan\n",
        "Cuando sigo imaginando\n",
        "Quiero que se esfume la intuición\n",
        "Y saltar a tus botones, sin dar explicación\n",
        "Dime si me concedes este aire\n",
        "¿Qué?, ¿cómo descubro cuánto me queda por ver?\n",
        "¿Qué es lo que pasará cuando pase otro tren?\n",
        "Si paseando por la calle encontraré tu rostro\n",
        "Entre otros 100, 100 mil millones de miradas me secuestrarán\n",
        "100 mil millones de perfumes, pero tú\n",
        "Estando lejos, me regalas primaveras\n",
        "Vengo retratando que hoy es siempre\n",
        "Y siempre vive en el presente\n",
        "De poder ser un gran día\n",
        "Quiero reinventar una manera de soñar\n",
        "Y quedarme cualquier viernes, dormida en el sofá\n",
        "Vengo aterrizando por los miedos que tenía\n",
        "Que ahora son habladurías, que ya no me hacen pensar\n",
        "Quiero que, algún día, pueda ver que todavía\n",
        "Toda esta palabrería siga siendo de verdad\n",
        "Dime si me concedes este aire\n",
        "¿Qué?, ¿cómo descubro cuánto me queda por ver?\n",
        "¿Qué es lo que pasará cuando pase otro tren?\n",
        "Si paseando por la calle encontraré tu rostro\n",
        "Entre otros 100, 100 mil millones de miradas me secuestrarán\n",
        "100 mil millones de perfumes, pero tú\n",
        "Estando lejos, me regalas primaveras\n",
        "¿Qué?, ¿cómo descubro cuánto me queda por ver?\n",
        "¿Qué es lo que pasará cuando pase otro tren?\n",
        "Si paseando por la calle encontraré tu rostro\n",
        "Entre otros 100, 100 mil millones de miradas me secuestrarán\n",
        "100 mil millones de perfumes, pero tú\n",
        "Estando lejos, me regalas primaveras\n",
        "\"\"\""
      ],
      "metadata": {
        "id": "HoJeOjzHJFd5"
      },
      "execution_count": 14,
      "outputs": []
    },
    {
      "cell_type": "code",
      "source": [
        "ground_truth = preprocess(ground_truth)\n",
        "print(ground_truth[0][:100])"
      ],
      "metadata": {
        "colab": {
          "base_uri": "https://localhost:8080/"
        },
        "id": "if9Cv68IJMSe",
        "outputId": "0334266c-08e2-4b39-d4b9-981fb9e17560"
      },
      "execution_count": 15,
      "outputs": [
        {
          "output_type": "stream",
          "name": "stdout",
          "text": [
            "vengo caminando pago un precio razonable por los actos que me gasto quiero que el mañana me sorprend\n"
          ]
        }
      ]
    },
    {
      "cell_type": "markdown",
      "source": [
        "## Подсчет WER"
      ],
      "metadata": {
        "id": "zgpcIXGMIBxi"
      }
    },
    {
      "cell_type": "code",
      "source": [
        "import jiwer\n",
        "\n",
        "print(f\"YouTube: {jiwer.wer(ground_truth, auto_subs):.2f}\")\n",
        "print(f\"wav2vec2: {jiwer.wer(ground_truth, wav2vec2_subs):.2f}\")\n",
        "print(f\"AssemblyAI: {jiwer.wer(ground_truth, assemblyai_subs):.2f}\")\n",
        "print(f\"Whisper: {jiwer.wer(ground_truth, whisper_subs):.2f}\")"
      ],
      "metadata": {
        "colab": {
          "base_uri": "https://localhost:8080/"
        },
        "id": "wkL6K6EF-6Ce",
        "outputId": "c6460cc0-8686-4025-e9b6-9014477ce169"
      },
      "execution_count": 16,
      "outputs": [
        {
          "output_type": "stream",
          "name": "stdout",
          "text": [
            "YouTube: 0.27\n",
            "wav2vec2: 0.52\n",
            "AssemblyAI: 0.08\n",
            "Whisper: 0.57\n"
          ]
        }
      ]
    },
    {
      "cell_type": "markdown",
      "source": [
        "## Итоги"
      ],
      "metadata": {
        "id": "b9y3ZnjfNnep"
      }
    },
    {
      "cell_type": "markdown",
      "source": [
        "- У Whisper и wav2vec2-модель для испанского результаты оказались почти одинаковыми (wav2vec2 незначительно лучше)\n",
        "- YouTube-автогенерация лучше, чем Whisper и wav2vec2, но WER все еще высокий\n",
        "- У AssemblyAI практически эталонный результат"
      ],
      "metadata": {
        "id": "cNKCprTONpwH"
      }
    }
  ]
}