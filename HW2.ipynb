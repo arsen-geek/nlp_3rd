{
 "cells": [
  {
   "cell_type": "markdown",
   "id": "modern-windows",
   "metadata": {},
   "source": [
    "Были выбраны теги UD, как универсальные для многих языков, поэтому не слишком дробные. https://universaldependencies.org/u/pos/all.html/ На мой взгляд, нет смысла разделять причастия, деепричастия и другие формы глагола, так как прич. и деепр. — продуктивные формы и части парадигмы. А разделять имена собственные и нарицательные, работать с аббревиатурами — важная фича. Она поможет при сложных задачах вроде выделения сущностей и извлечения ключевых выражений."
   ]
  },
  {
   "cell_type": "markdown",
   "id": "suitable-northwest",
   "metadata": {},
   "source": [
    "В тестовом корпусе присутствует много омоформ (семью, что, почти, мыло / мыла, домой и т.д.) Аббревиатуры, сокращения с числительными (3-палубный) и имена собственные.\n"
   ]
  },
  {
   "cell_type": "code",
   "execution_count": 2,
   "id": "based-absorption",
   "metadata": {},
   "outputs": [],
   "source": [
    "ud_tags = ['ADJ', 'ADP', 'PUNCT', 'ADV', 'AUX', 'SYM', 'INTJ', 'CCONJ', 'X', 'NOUN', 'DET', 'PROPN', 'NUM', 'VERB', 'PART', 'PRON', 'SCONJ']\n"
   ]
  },
  {
   "cell_type": "markdown",
   "id": "150158f6",
   "metadata": {},
   "source": [
    "### Mystem"
   ]
  },
  {
   "cell_type": "code",
   "execution_count": 52,
   "id": "7449d53b",
   "metadata": {},
   "outputs": [],
   "source": [
    "from pymystem3 import Mystem\n",
    "m = Mystem()\n",
    "\n",
    "mystem_analysis = m.analyze(text)"
   ]
  },
  {
   "cell_type": "code",
   "execution_count": 53,
   "id": "absolute-farmer",
   "metadata": {},
   "outputs": [],
   "source": [
    "# перевод тегов\n",
    "\n",
    "def mystem2ud(pos):\n",
    "    mystem2ud_dict = {'A': 'ADJ',\n",
    "                      'ADVPRO': 'ADV',\n",
    "                      'ANUM': 'NUM',\n",
    "                      'CONJ': 'CCONJ',\n",
    "                      'PR': 'ADP',\n",
    "                      'S': 'NOUN',\n",
    "                      'V': 'VERB',\n",
    "                      'APRO': 'PRON',\n",
    "                      'SPRO': 'PRON', }\n",
    "    \n",
    "    if pos in ud_tags:\n",
    "        return pos\n",
    "    \n",
    "    elif pos in mystem2ud_dict:\n",
    "        return mystem2ud_dict[pos]\n",
    "    \n",
    "    else:\n",
    "        return 'X'"
   ]
  },
  {
   "cell_type": "code",
   "execution_count": 54,
   "id": "bea32636",
   "metadata": {},
   "outputs": [],
   "source": [
    "# список из двуместных списков токен – тег\n",
    "mystem_pos_res = []\n",
    "\n",
    "for token in mystem_analysis:\n",
    "    \n",
    "    # если токен не пробел\n",
    "    if 'analysis' in token:\n",
    "        \n",
    "        # если нет грамм. инф.\n",
    "        if len(token['analysis']) == 0:\n",
    "            mystem_pos_res.append([token['text'], 'X'])\n",
    "        \n",
    "        else:\n",
    "            gr = token['analysis'][0]['gr']\n",
    "            pos = gr.split('=')[0].split(',')[0]\n",
    "            \n",
    "            ud_pos = mystem2ud(pos)\n",
    "\n",
    "            mystem_pos_res.append([token['text'], ud_pos])"
   ]
  },
  {
   "cell_type": "markdown",
   "id": "e7be5f39",
   "metadata": {},
   "source": [
    "### pymorphy"
   ]
  },
  {
   "cell_type": "code",
   "execution_count": 55,
   "id": "occupied-yield",
   "metadata": {},
   "outputs": [],
   "source": [
    "from nltk import word_tokenize\n",
    "\n",
    "from pymorphy2 import MorphAnalyzer\n",
    "morph = MorphAnalyzer()"
   ]
  },
  {
   "cell_type": "code",
   "execution_count": 56,
   "id": "comparable-archive",
   "metadata": {},
   "outputs": [],
   "source": [
    "# перевод тегов\n",
    "\n",
    "def pymorphy2ud(pos):\n",
    "    pymorphy2ud_dict = {'ADJF': 'ADJ',\n",
    "                        'ADJS': 'ADJ',\n",
    "                        'ADVB': 'ADV',\n",
    "                        'PREP': 'ADP',\n",
    "                        'CONJ': 'CCONJ',\n",
    "                        'COMP': 'ADJ',\n",
    "                        'NPRO': 'PRON',\n",
    "                        'NUMR': 'NUM',\n",
    "                        'PRTS': 'VERB',\n",
    "                        'PRTF': 'VERB',\n",
    "                        'PNCT': 'PUNCT',\n",
    "                        'GRND': 'VERB',\n",
    "                        'INFN': 'VERB',\n",
    "                        'PRED': 'ADV',\n",
    "                        'PRCL': 'PART',\n",
    "                        'None': 'X'}\n",
    "    \n",
    "    if pos in ud_tags:\n",
    "        return pos\n",
    "    \n",
    "    elif pos in pymorphy2ud_dict:\n",
    "        return pymorphy2ud_dict[pos]\n",
    "    \n",
    "    else:\n",
    "        return 'X'"
   ]
  },
  {
   "cell_type": "code",
   "execution_count": 57,
   "id": "3c852751",
   "metadata": {},
   "outputs": [],
   "source": [
    "# список из двуместных списков токен – тег\n",
    "pymorphy_pos_res = []\n",
    "\n",
    "words = word_tokenize(text)\n",
    "\n",
    "for token in words:\n",
    "    first = morph.parse(token)[0]\n",
    "    pos = str(first.tag)[0:4]\n",
    "\n",
    "    ud_pos = pymorphy2ud(pos)\n",
    "    \n",
    "    if ud_pos != 'PUNCT':\n",
    "        pymorphy_pos_res.append([first.word, ud_pos])"
   ]
  },
  {
   "cell_type": "markdown",
   "id": "974f3e34",
   "metadata": {},
   "source": [
    "### Natasha"
   ]
  },
  {
   "cell_type": "code",
   "execution_count": 18,
   "id": "76fac0d0",
   "metadata": {},
   "outputs": [
    {
     "name": "stdout",
     "output_type": "stream",
     "text": [
      "Collecting natasha\n",
      "  Using cached natasha-1.4.0-py3-none-any.whl (34.4 MB)\n",
      "Requirement already satisfied: pymorphy2 in /Applications/anaconda3/lib/python3.7/site-packages (from natasha) (0.8)\n",
      "Collecting ipymarkup>=0.8.0\n",
      "  Using cached ipymarkup-0.9.0-py3-none-any.whl (14 kB)\n",
      "Requirement already satisfied: intervaltree>=3 in /Applications/anaconda3/lib/python3.7/site-packages (from ipymarkup>=0.8.0->natasha) (3.1.0)\n",
      "Requirement already satisfied: sortedcontainers<3.0,>=2.0 in /Applications/anaconda3/lib/python3.7/site-packages (from intervaltree>=3->ipymarkup>=0.8.0->natasha) (2.3.0)\n",
      "Collecting navec>=0.9.0\n",
      "  Using cached navec-0.10.0-py3-none-any.whl (23 kB)\n",
      "Requirement already satisfied: numpy in /Applications/anaconda3/lib/python3.7/site-packages (from navec>=0.9.0->natasha) (1.19.2)\n",
      "Collecting razdel>=0.5.0\n",
      "  Using cached razdel-0.5.0-py3-none-any.whl (21 kB)\n",
      "Collecting slovnet>=0.3.0\n",
      "  Using cached slovnet-0.5.0-py3-none-any.whl (49 kB)\n",
      "Collecting yargy>=0.14.0\n",
      "  Using cached yargy-0.15.0-py3-none-any.whl (41 kB)\n",
      "Requirement already satisfied: docopt>=0.6 in /Applications/anaconda3/lib/python3.7/site-packages (from pymorphy2->natasha) (0.6.2)\n",
      "Requirement already satisfied: dawg-python>=0.7 in /Applications/anaconda3/lib/python3.7/site-packages (from pymorphy2->natasha) (0.7.2)\n",
      "Requirement already satisfied: pymorphy2-dicts<3.0,>=2.4 in /Applications/anaconda3/lib/python3.7/site-packages (from pymorphy2->natasha) (2.4.393442.3710985)\n",
      "Installing collected packages: razdel, navec, yargy, slovnet, ipymarkup, natasha\n",
      "Successfully installed ipymarkup-0.9.0 natasha-1.4.0 navec-0.10.0 razdel-0.5.0 slovnet-0.5.0 yargy-0.15.0\n",
      "Note: you may need to restart the kernel to use updated packages.\n"
     ]
    }
   ],
   "source": [
    "pip install natasha"
   ]
  },
  {
   "cell_type": "code",
   "execution_count": 26,
   "id": "sunset-nepal",
   "metadata": {},
   "outputs": [],
   "source": [
    "import natasha"
   ]
  },
  {
   "cell_type": "code",
   "execution_count": 58,
   "id": "4fae30f3",
   "metadata": {},
   "outputs": [],
   "source": [
    "segmenter = Segmenter()\n",
    "emb = NewsEmbedding()\n",
    "\n",
    "morph_vocab = MorphVocab()\n",
    "morph_tagger = NewsMorphTagger(emb)\n",
    "doc = Doc(text)\n",
    "\n",
    "doc.segment(segmenter)\n",
    "doc.tag_morph(morph_tagger)"
   ]
  },
  {
   "cell_type": "code",
   "execution_count": 59,
   "id": "8b77fc32",
   "metadata": {},
   "outputs": [],
   "source": [
    "# Наташа использует теги UD, перевод не нужен\n",
    "\n",
    "natasha_pos_res = []\n",
    "\n",
    "for token in doc.tokens:\n",
    "    if token.pos != 'PUNCT':\n",
    "        natasha_pos_res.append([token.text, token.pos])"
   ]
  },
  {
   "cell_type": "markdown",
   "id": "60a6ddd3",
   "metadata": {},
   "source": [
    "### Accuracy"
   ]
  },
  {
   "cell_type": "code",
   "execution_count": 60,
   "id": "virgin-projector",
   "metadata": {},
   "outputs": [],
   "source": [
    "import csv\n",
    "\n",
    "ud_gold_pos = []\n",
    "\n",
    "with open('corpus.tsv', encoding = 'utf-8') as File:\n",
    "    reader = csv.reader(File, delimiter='\\t')\n",
    "    for line in reader:\n",
    "        if line[1] != 'PUNCT':\n",
    "            ud_gold_pos.append(line)"
   ]
  },
  {
   "cell_type": "code",
   "execution_count": 61,
   "id": "interim-friendly",
   "metadata": {},
   "outputs": [
    {
     "data": {
      "text/plain": [
       "(202, 200, 200, 200)"
      ]
     },
     "execution_count": 61,
     "metadata": {},
     "output_type": "execute_result"
    }
   ],
   "source": [
    "len(ud_gold_pos), len(natasha_pos_res), len(pymorphy_pos_res), len(natasha_pos_res)"
   ]
  },
  {
   "cell_type": "markdown",
   "id": "rocky-astrology",
   "metadata": {},
   "source": [
    "Алгоритм по-разному разбил некоторые слова с дефисом. Они анализироваться не будут."
   ]
  },
  {
   "cell_type": "code",
   "execution_count": 84,
   "id": "intellectual-contributor",
   "metadata": {},
   "outputs": [],
   "source": [
    "def accuracy(set_pos_res, length):\n",
    "    errors = 0\n",
    "    for i in range(length):\n",
    "    \n",
    "        gold_word = ud_gold_pos[i][0].lower()\n",
    "        compared_word = set_pos_res[i][0].lower()\n",
    "    \n",
    "        gold_tag = ud_gold_pos[i][1]\n",
    "        compared_tag = set_pos_res[i][1]\n",
    "    \n",
    "        if (gold_word == compared_word):\n",
    "            if (gold_tag != compared_tag):\n",
    "                errors += 1\n",
    "                print(gold_word, '\\t\\tgold ', gold_tag, '\\t\\tpredicted ', compared_tag)\n",
    "\n",
    "        else:\n",
    "            # перескочить через одно слово с дефисом.\n",
    "            # В списке таких проблемных мест 2: по-литра и ICQ-аккаунт.\n",
    "            # это кривой код, по-хорошему надо делать через рекурсию, но я не успел.\n",
    "            # По этому сделаем вид, что код нужен только для этой выборки из 200,\n",
    "            # где мы точно знаем проблемные места\n",
    "             \n",
    "            gold_word = ud_gold_pos[i+1][0]\n",
    "            compared_word = natasha_pos_res[i][0]\n",
    "            \n",
    "            gold_tag = ud_gold_pos[i+1][1]\n",
    "            compared_tag = set_pos_res[i][1]\n",
    "            \n",
    "            if gold_word == compared_word:\n",
    "                if (gold_tag != compared_tag):\n",
    "                    errors += 1\n",
    "                    print(gold_word, '\\t\\tgold ', gold_tag, '\\t\\tpredicted ', compared_tag)\n",
    "            \n",
    "            else:\n",
    "                gold_word = ud_gold_pos[i+2][0]\n",
    "                compared_word = natasha_pos_res[i][0]\n",
    "                \n",
    "                gold_tag = ud_gold_pos[i+2][1]\n",
    "                compared_tag = set_pos_res[i][1]\n",
    "                \n",
    "                if gold_word == compared_word:\n",
    "                    if (gold_tag != compared_tag):\n",
    "                        errors += 1\n",
    "                        print(gold_word, '\\t\\tgold ', gold_tag, '\\t\\tpredicted ', compared_tag)\n",
    "                else:\n",
    "                    print(gold_word, compared_word)\n",
    "                \n",
    "                \n",
    "    return (200 - errors)/200"
   ]
  },
  {
   "cell_type": "code",
   "execution_count": 85,
   "id": "aging-election",
   "metadata": {},
   "outputs": [
    {
     "name": "stdout",
     "output_type": "stream",
     "text": [
      "почти \t\tgold  PART \t\tpredicted  ADV\n",
      "почти \t\tgold  VERB \t\tpredicted  ADV\n",
      "нлп \t\tgold  NOUN \t\tpredicted  PROPN\n",
      "домой \t\tgold  VERB \t\tpredicted  ADV\n",
      "и \t\tgold  PART \t\tpredicted  CCONJ\n",
      "пропылесось \t\tgold  VERB \t\tpredicted  NOUN\n",
      "двадцать \t\tgold  NUM \t\tpredicted  PROPN\n",
      "10-й \t\tgold  ADJ \t\tpredicted  NUM\n",
      "специализация \t\tgold  NOUN \t\tpredicted  ADJ\n",
      "дуло \t\tgold  VERB \t\tpredicted  NOUN\n",
      "штирлиц \t\tgold  PROPN \t\tpredicted  NOUN\n",
      "напасть \t\tgold  NOUN \t\tpredicted  VERB\n",
      "осы \t\tgold  NOUN \t\tpredicted  VERB\n",
      "вздумали \t\tgold  VERB \t\tpredicted  NOUN\n",
      "не пол-литра\n",
      "приписываемые \t\tgold  VERB \t\tpredicted  ADJ\n",
      "Лазутчик \t\tgold  NOUN \t\tpredicted  PROPN\n",
      "фотофиксацию \t\tgold  NOUN \t\tpredicted  ADJ\n",
      "расположенная \t\tgold  VERB \t\tpredicted  ADJ\n",
      "аккаунта ICQ-аккаунта\n",
      "Червоненкиса \t\tgold  NOUN \t\tpredicted  PROPN\n"
     ]
    },
    {
     "data": {
      "text/plain": [
       "0.905"
      ]
     },
     "execution_count": 85,
     "metadata": {},
     "output_type": "execute_result"
    }
   ],
   "source": [
    "accuracy(natasha_pos_res, 200)"
   ]
  },
  {
   "cell_type": "code",
   "execution_count": 86,
   "id": "italian-location",
   "metadata": {},
   "outputs": [
    {
     "name": "stdout",
     "output_type": "stream",
     "text": [
      "семью \t\tgold  NOUN \t\tpredicted  NUM\n",
      "что \t\tgold  PRON \t\tpredicted  CCONJ\n",
      "почти \t\tgold  PART \t\tpredicted  ADV\n",
      "все \t\tgold  DET \t\tpredicted  ADJ\n",
      "что \t\tgold  SCONJ \t\tpredicted  CCONJ\n",
      "почти \t\tgold  VERB \t\tpredicted  ADV\n",
      "нлп \t\tgold  NOUN \t\tpredicted  X\n",
      "мыла \t\tgold  VERB \t\tpredicted  NOUN\n",
      "домой \t\tgold  VERB \t\tpredicted  ADV\n",
      "и \t\tgold  PART \t\tpredicted  CCONJ\n",
      "бы \t\tgold  AUX \t\tpredicted  PART\n",
      "10-й \t\tgold  ADJ \t\tpredicted  VERB\n",
      "хуан \t\tgold  PROPN \t\tpredicted  NOUN\n",
      "штирлиц \t\tgold  PROPN \t\tpredicted  NOUN\n",
      "штирлиц \t\tgold  PROPN \t\tpredicted  NOUN\n",
      "дуло \t\tgold  NOUN \t\tpredicted  VERB\n",
      "штирлиц \t\tgold  PROPN \t\tpredicted  NOUN\n",
      "лесу шел\n",
      "ели \t\tgold  NOUN \t\tpredicted  VERB\n",
      "когда \t\tgold  SCONJ \t\tpredicted  CCONJ\n",
      "напасть \t\tgold  NOUN \t\tpredicted  VERB\n",
      "не пол-литра\n",
      "якобы \t\tgold  ADV \t\tpredicted  CCONJ\n",
      "Анатолий \t\tgold  PROPN \t\tpredicted  NOUN\n",
      "Вассерман \t\tgold  PROPN \t\tpredicted  NOUN\n",
      "Христо \t\tgold  PROPN \t\tpredicted  NOUN\n",
      "Грозев \t\tgold  PROPN \t\tpredicted  NOUN\n",
      "что \t\tgold  SCONJ \t\tpredicted  CCONJ\n",
      "ЦРУ \t\tgold  PROPN \t\tpredicted  NOUN\n",
      "все \t\tgold  DET \t\tpredicted  ADJ\n",
      "этой \t\tgold  DET \t\tpredicted  ADJ\n",
      "Госдумы \t\tgold  PROPN \t\tpredicted  NOUN\n",
      "Анатолий \t\tgold  PROPN \t\tpredicted  NOUN\n",
      "Вассерман \t\tgold  PROPN \t\tpredicted  NOUN\n",
      "Лэнгли \t\tgold  PROPN \t\tpredicted  NOUN\n",
      "ЦРУ \t\tgold  PROPN \t\tpredicted  NOUN\n",
      "что \t\tgold  SCONJ \t\tpredicted  CCONJ\n",
      "Грозев \t\tgold  PROPN \t\tpredicted  NOUN\n",
      "аккаунта ICQ-аккаунта\n"
     ]
    },
    {
     "data": {
      "text/plain": [
       "0.82"
      ]
     },
     "execution_count": 86,
     "metadata": {},
     "output_type": "execute_result"
    }
   ],
   "source": [
    "accuracy(pymorphy_pos_res, 200)"
   ]
  },
  {
   "cell_type": "code",
   "execution_count": 87,
   "id": "later-battle",
   "metadata": {},
   "outputs": [
    {
     "name": "stdout",
     "output_type": "stream",
     "text": [
      "почти \t\tgold  PART \t\tpredicted  ADV\n",
      "все \t\tgold  DET \t\tpredicted  PRON\n",
      "что \t\tgold  SCONJ \t\tpredicted  CCONJ\n",
      "почти \t\tgold  VERB \t\tpredicted  ADV\n",
      "нлп \t\tgold  NOUN \t\tpredicted  X\n",
      "домой \t\tgold  VERB \t\tpredicted  ADV\n",
      "и \t\tgold  PART \t\tpredicted  CCONJ\n",
      "хорошо \t\tgold  ADV \t\tpredicted  PART\n",
      "бы \t\tgold  AUX \t\tpredicted  PART\n",
      "Сегодня 10-й\n",
      "хуан \t\tgold  PROPN \t\tpredicted  NOUN\n",
      "спущена 3-палубной\n",
      "штирлиц \t\tgold  PROPN \t\tpredicted  NOUN\n",
      "дуло \t\tgold  VERB \t\tpredicted  NOUN\n",
      "штирлиц \t\tgold  PROPN \t\tpredicted  NOUN\n",
      "штирлиц \t\tgold  PROPN \t\tpredicted  NOUN\n",
      "ели \t\tgold  NOUN \t\tpredicted  VERB\n",
      "когда \t\tgold  SCONJ \t\tpredicted  CCONJ\n",
      "напасть \t\tgold  NOUN \t\tpredicted  VERB\n",
      "не пол-литра\n",
      "якобы \t\tgold  ADV \t\tpredicted  PART\n",
      "Анатолий \t\tgold  PROPN \t\tpredicted  NOUN\n",
      "Вассерман \t\tgold  PROPN \t\tpredicted  NOUN\n",
      "Христо \t\tgold  PROPN \t\tpredicted  NOUN\n",
      "Грозев \t\tgold  PROPN \t\tpredicted  NOUN\n",
      "что \t\tgold  SCONJ \t\tpredicted  CCONJ\n",
      "ЦРУ \t\tgold  PROPN \t\tpredicted  NOUN\n",
      "все \t\tgold  DET \t\tpredicted  PRON\n",
      "этой \t\tgold  DET \t\tpredicted  PRON\n",
      "самом \t\tgold  ADJ \t\tpredicted  PRON\n",
      "Госдумы \t\tgold  PROPN \t\tpredicted  NOUN\n",
      "Анатолий \t\tgold  PROPN \t\tpredicted  NOUN\n",
      "Вассерман \t\tgold  PROPN \t\tpredicted  NOUN\n",
      "Лэнгли \t\tgold  PROPN \t\tpredicted  NOUN\n",
      "ЦРУ \t\tgold  PROPN \t\tpredicted  NOUN\n",
      "что \t\tgold  SCONJ \t\tpredicted  CCONJ\n",
      "Грозев \t\tgold  PROPN \t\tpredicted  NOUN\n",
      "аккаунта ICQ-аккаунта\n",
      "и \t\tgold  CCONJ \t\tpredicted  NOUN\n",
      "вошёл \t\tgold  VERB \t\tpredicted  CCONJ\n",
      "на \t\tgold  ADP \t\tpredicted  VERB\n",
      "него \t\tgold  PRON \t\tpredicted  ADP\n"
     ]
    },
    {
     "data": {
      "text/plain": [
       "0.81"
      ]
     },
     "execution_count": 87,
     "metadata": {},
     "output_type": "execute_result"
    }
   ],
   "source": [
    "accuracy(mystem_pos_res, 200)"
   ]
  },
  {
   "cell_type": "markdown",
   "id": "4f62a467",
   "metadata": {},
   "source": [
    "Лучший результат у Natasha."
   ]
  }
 ],
 "metadata": {
  "kernelspec": {
   "display_name": "Python 3",
   "language": "python",
   "name": "python3"
  },
  "language_info": {
   "codemirror_mode": {
    "name": "ipython",
    "version": 3
   },
   "file_extension": ".py",
   "mimetype": "text/x-python",
   "name": "python",
   "nbconvert_exporter": "python",
   "pygments_lexer": "ipython3",
   "version": "3.7.9"
  }
 },
 "nbformat": 4,
 "nbformat_minor": 5
}
